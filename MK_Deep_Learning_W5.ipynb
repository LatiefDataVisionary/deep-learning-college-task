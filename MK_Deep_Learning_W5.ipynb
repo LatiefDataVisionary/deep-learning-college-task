{
  "nbformat": 4,
  "nbformat_minor": 0,
  "metadata": {
    "colab": {
      "provenance": [],
      "authorship_tag": "ABX9TyOMA7PwhQgjU05m79ou2CLa",
      "include_colab_link": true
    },
    "kernelspec": {
      "name": "python3",
      "display_name": "Python 3"
    },
    "language_info": {
      "name": "python"
    }
  },
  "cells": [
    {
      "cell_type": "markdown",
      "metadata": {
        "id": "view-in-github",
        "colab_type": "text"
      },
      "source": [
        "<a href=\"https://colab.research.google.com/github/LatiefDataVisionary/deep-learning-college-task/blob/main/MK_Deep_Learning_W5.ipynb\" target=\"_parent\"><img src=\"https://colab.research.google.com/assets/colab-badge.svg\" alt=\"Open In Colab\"/></a>"
      ]
    },
    {
      "cell_type": "code",
      "execution_count": 1,
      "metadata": {
        "colab": {
          "base_uri": "https://localhost:8080/"
        },
        "id": "VnMvLCJp_MhE",
        "outputId": "8cd0d8f2-60fa-4981-bbdb-e82b85b51928"
      },
      "outputs": [
        {
          "output_type": "stream",
          "name": "stdout",
          "text": [
            "Mounted at /content/drive\n"
          ]
        }
      ],
      "source": [
        "from google.colab import drive\n",
        "drive.mount('/content/drive')"
      ]
    },
    {
      "cell_type": "code",
      "source": [
        "import os\n",
        "\n",
        "train_dir = '/content/drive/MyDrive/Dataset/Dataset Sistem Presensi Wajah V1.0/Data Train'\n",
        "test_dir = '/content/drive/MyDrive/Dataset/Dataset Sistem Presensi Wajah V1.0/Data Test'\n",
        "\n",
        "# List files in the training directory\n",
        "train_files = os.listdir(train_dir)\n",
        "print(\"Files in Data Train directory:\")\n",
        "for file in train_files[:10]: # Print first 10 files as an example\n",
        "    print(file)\n",
        "\n",
        "print(\"\\n\") # Add a newline for better readability\n",
        "\n",
        "# List files in the testing directory\n",
        "test_files = os.listdir(test_dir)\n",
        "print(\"Files in Data Test directory:\")\n",
        "for file in test_files[:10]: # Print first 10 files as an example\n",
        "    print(file)"
      ],
      "metadata": {
        "colab": {
          "base_uri": "https://localhost:8080/"
        },
        "id": "yKlImPjI_Uvh",
        "outputId": "514a6b1b-1e6b-41be-de0d-f5390dc964ba"
      },
      "execution_count": 2,
      "outputs": [
        {
          "output_type": "stream",
          "name": "stdout",
          "text": [
            "Files in Data Train directory:\n",
            "5231811025_Novera_34.jpg\n",
            "5231811025_Novera_38.jpg\n",
            "5231811025_Novera_39.jpg\n",
            "5231811025_Novera_31.jpg\n",
            "5231811025_Novera_32.jpg\n",
            "5231811025_Novera_33.jpg\n",
            "5231811026_ULFAH NAFIAH_01.jpg\n",
            "5231811025_Novera_40.jpg\n",
            "5231811025_Novera_37.jpg\n",
            "5231811027_Naufal_01.jpg\n",
            "\n",
            "\n",
            "Files in Data Test directory:\n",
            "5221911025-Anggun-01.jpg\n",
            "5231811002_MichaelAndrewDeHaan_01.jpg\n",
            "5221911025-Anggun-40.jpg\n",
            "5221911012_Debora_01.jpg\n",
            "5221911012_Debora_09.jpg\n",
            "5221911012_Debora_40.jpg\n",
            "5221911012_Debora_39.jpg\n",
            "5221911025-Anggun-39.jpg\n",
            "5221911012_Debora_25.jpg\n",
            "5221911025-Anggun-09.jpg\n"
          ]
        }
      ]
    },
    {
      "cell_type": "code",
      "source": [],
      "metadata": {
        "id": "Rd2mYHaE_Us0"
      },
      "execution_count": null,
      "outputs": []
    }
  ]
}