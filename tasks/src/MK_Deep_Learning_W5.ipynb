{
  "nbformat": 4,
  "nbformat_minor": 0,
  "metadata": {
    "colab": {
      "provenance": [],
      "authorship_tag": "ABX9TyNHcfzvY5TGZblu3Uirpvqx",
      "include_colab_link": true
    },
    "kernelspec": {
      "name": "python3",
      "display_name": "Python 3"
    },
    "language_info": {
      "name": "python"
    }
  },
  "cells": [
    {
      "cell_type": "markdown",
      "metadata": {
        "id": "view-in-github",
        "colab_type": "text"
      },
      "source": [
        "<a href=\"https://colab.research.google.com/github/LatiefDataVisionary/deep-learning-college-task/blob/main/tasks/src/MK_Deep_Learning_W5.ipynb\" target=\"_parent\"><img src=\"https://colab.research.google.com/assets/colab-badge.svg\" alt=\"Open In Colab\"/></a>"
      ]
    },
    {
      "cell_type": "code",
      "execution_count": 1,
      "metadata": {
        "colab": {
          "base_uri": "https://localhost:8080/"
        },
        "id": "VnMvLCJp_MhE",
        "outputId": "4f57f75a-3ba2-4dd7-ba0c-93a7f8407df3"
      },
      "outputs": [
        {
          "output_type": "stream",
          "name": "stdout",
          "text": [
            "Mounted at /content/drive\n"
          ]
        }
      ],
      "source": [
        "from google.colab import drive\n",
        "drive.mount('/content/drive')"
      ]
    },
    {
      "cell_type": "code",
      "source": [
        "import os\n",
        "\n",
        "train_dir = '/content/drive/MyDrive/Dataset/Dataset Sistem Presensi Wajah V1.0/Data Train'\n",
        "test_dir = '/content/drive/MyDrive/Dataset/Dataset Sistem Presensi Wajah V1.0/Data Test'\n",
        "\n",
        "# List files in the training directory\n",
        "train_files = os.listdir(train_dir)\n",
        "print(\"Files in Data Train directory:\")\n",
        "for file in train_files[:10]: # Print first 10 files as an example\n",
        "    print(file)\n",
        "\n",
        "print(\"\\n\") # Add a newline for better readability\n",
        "\n",
        "# List files in the testing directory\n",
        "test_files = os.listdir(test_dir)\n",
        "print(\"Files in Data Test directory:\")\n",
        "for file in test_files[:10]: # Print first 10 files as an example\n",
        "    print(file)"
      ],
      "metadata": {
        "colab": {
          "base_uri": "https://localhost:8080/"
        },
        "id": "yKlImPjI_Uvh",
        "outputId": "abe5d0e0-2fbc-42f4-cd4f-e82be39706fb"
      },
      "execution_count": 2,
      "outputs": [
        {
          "output_type": "stream",
          "name": "stdout",
          "text": [
            "Files in Data Train directory:\n",
            "5231811025_Novera_34.jpg\n",
            "5231811025_Novera_38.jpg\n",
            "5231811025_Novera_39.jpg\n",
            "5231811025_Novera_31.jpg\n",
            "5231811025_Novera_32.jpg\n",
            "5231811025_Novera_33.jpg\n",
            "5231811026_ULFAH NAFIAH_01.jpg\n",
            "5231811025_Novera_40.jpg\n",
            "5231811025_Novera_37.jpg\n",
            "5231811027_Naufal_01.jpg\n",
            "\n",
            "\n",
            "Files in Data Test directory:\n",
            "5221911025-Anggun-01.jpg\n",
            "5231811002_MichaelAndrewDeHaan_01.jpg\n",
            "5221911025-Anggun-40.jpg\n",
            "5221911012_Debora_01.jpg\n",
            "5221911012_Debora_09.jpg\n",
            "5221911012_Debora_40.jpg\n",
            "5221911012_Debora_39.jpg\n",
            "5221911025-Anggun-39.jpg\n",
            "5221911012_Debora_25.jpg\n",
            "5221911025-Anggun-09.jpg\n"
          ]
        }
      ]
    },
    {
      "cell_type": "code",
      "source": [],
      "metadata": {
        "id": "Rd2mYHaE_Us0"
      },
      "execution_count": 2,
      "outputs": []
    },
    {
      "cell_type": "markdown",
      "metadata": {
        "id": "22f1839a"
      },
      "source": [
        "## **Section 0: Initial Setup (Pengaturan Awal)**\n",
        "\n",
        "**Penjelasan:** Bagian ini bertujuan untuk melakukan instalasi library Python yang mungkin belum ada di lingkungan Google Colab secara default, serta me-mount Google Drive agar notebook dapat mengakses dataset yang tersimpan di dalamnya."
      ]
    },
    {
      "cell_type": "markdown",
      "metadata": {
        "id": "12f2ba06"
      },
      "source": [
        "### **0.1. Install Libraries (Instalasi Library)**\n",
        "\n",
        "**Penjelasan:** Menginstal library tambahan yang mungkin diperlukan, seperti versi spesifik dari tensorflow atau library lain yang tidak termasuk dalam instalasi Colab dasar. Saat ini, library utama seperti TensorFlow dan Keras sudah terinstal, namun baris ini dapat ditambahkan jika ada kebutuhan library lain di masa depan."
      ]
    },
    {
      "cell_type": "code",
      "metadata": {
        "id": "23020928"
      },
      "source": [
        "# Tidak ada instalasi library tambahan yang spesifik diperlukan untuk langkah dasar ini,\n",
        "# karena library utama seperti tensorflow sudah tersedia di Colab.\n",
        "# Jika ada library lain yang dibutuhkan, tambahkan baris berikut:\n",
        "# !pip install nama_library"
      ],
      "execution_count": 3,
      "outputs": []
    },
    {
      "cell_type": "markdown",
      "metadata": {
        "id": "075281b5"
      },
      "source": [
        "### **0.2. Mount Google Drive (Menghubungkan Google Drive)**\n",
        "\n",
        "**Penjelasan:** Menghubungkan notebook ini dengan akun Google Drive Anda. Ini diperlukan agar notebook dapat membaca file dataset gambar yang telah Anda simpan di Google Drive. Setelah menjalankan sel ini, ikuti instruksi otorisasi yang muncul."
      ]
    },
    {
      "cell_type": "code",
      "metadata": {
        "colab": {
          "base_uri": "https://localhost:8080/"
        },
        "id": "f58a1269",
        "outputId": "5eab219c-b6f3-4815-be62-1ad9fcb482a2"
      },
      "source": [
        "from google.colab import drive\n",
        "drive.mount('/content/drive')"
      ],
      "execution_count": 4,
      "outputs": [
        {
          "output_type": "stream",
          "name": "stdout",
          "text": [
            "Drive already mounted at /content/drive; to attempt to forcibly remount, call drive.mount(\"/content/drive\", force_remount=True).\n"
          ]
        }
      ]
    },
    {
      "cell_type": "markdown",
      "metadata": {
        "id": "4c13c338"
      },
      "source": [
        "## **Section 1: Import Libraries and Environment Setup (Impor Library dan Pengaturan Lingkungan)**\n",
        "\n",
        "**Penjelasan:** Di sini kita akan mengimpor semua modul dan library yang dibutuhkan untuk keseluruhan proyek serta mendefinisikan variabel-variabel global seperti path direktori, ukuran gambar, dan parameter training."
      ]
    },
    {
      "cell_type": "markdown",
      "metadata": {
        "id": "9576c1c5"
      },
      "source": [
        "### **1.1. Import Core Libraries (Impor Library Utama)**\n",
        "\n",
        "**Penjelasan:** Mengimpor library utama seperti tensorflow, keras, numpy, matplotlib.pyplot, os, dan seaborn yang akan digunakan sepanjang proyek ini."
      ]
    },
    {
      "cell_type": "code",
      "metadata": {
        "id": "b1ee94cf"
      },
      "source": [
        "import tensorflow as tf\n",
        "from tensorflow import keras\n",
        "from tensorflow.keras.preprocessing.image import ImageDataGenerator\n",
        "from tensorflow.keras.models import Sequential\n",
        "from tensorflow.keras.layers import Conv2D, MaxPooling2D, Flatten, Dense, Dropout, GlobalAveragePooling2D\n",
        "from tensorflow.keras.optimizers import Adam\n",
        "from tensorflow.keras.callbacks import ModelCheckpoint, EarlyStopping, ReduceLROnPlateau\n",
        "import numpy as np\n",
        "import matplotlib.pyplot as plt\n",
        "import os\n",
        "import seaborn as sns\n",
        "from sklearn.metrics import classification_report, confusion_matrix"
      ],
      "execution_count": 5,
      "outputs": []
    },
    {
      "cell_type": "markdown",
      "metadata": {
        "id": "b4adda93"
      },
      "source": [
        "### **1.2. Define Configurations (Definisi Konfigurasi)**\n",
        "\n",
        "**Penjelasan:** Mendefinisikan variabel-variabel konfigurasi yang akan digunakan di seluruh notebook, termasuk path ke dataset, ukuran gambar yang akan digunakan, ukuran batch untuk training, jumlah epoch, dan jumlah kelas (mahasiswa)."
      ]
    },
    {
      "cell_type": "code",
      "metadata": {
        "id": "752e8757"
      },
      "source": [
        "# Define Directory Paths (Definisi Path Direktori)\n",
        "TRAIN_DIR = '/content/drive/MyDrive/Dataset/Dataset Sistem Presensi Wajah V1.0/Data Train'\n",
        "TEST_DIR = '/content/drive/MyDrive/Dataset/Dataset Sistem Presensi Wajah V1.0/Data Test'\n",
        "\n",
        "# Define Image Parameters (Definisi Parameter Gambar)\n",
        "IMG_HEIGHT = 150\n",
        "IMG_WIDTH = 150\n",
        "CHANNELS = 3 # RGB color images\n",
        "\n",
        "# Define Training Parameters (Definisi Parameter Pelatihan)\n",
        "BATCH_SIZE = 32\n",
        "EPOCHS = 100 # Will be controlled by Early Stopping\n",
        "NUM_CLASSES = 57 # Total number of unique students"
      ],
      "execution_count": 6,
      "outputs": []
    }
  ]
}