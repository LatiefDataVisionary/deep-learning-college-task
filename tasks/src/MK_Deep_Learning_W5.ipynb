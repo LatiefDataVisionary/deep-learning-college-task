{
  "nbformat": 4,
  "nbformat_minor": 0,
  "metadata": {
    "colab": {
      "provenance": [],
      "authorship_tag": "ABX9TyMaM22dZQNsIIiMFHkCFUKb",
      "include_colab_link": true
    },
    "kernelspec": {
      "name": "python3",
      "display_name": "Python 3"
    },
    "language_info": {
      "name": "python"
    }
  },
  "cells": [
    {
      "cell_type": "markdown",
      "metadata": {
        "id": "view-in-github",
        "colab_type": "text"
      },
      "source": [
        "<a href=\"https://colab.research.google.com/github/LatiefDataVisionary/deep-learning-college-task/blob/main/tasks/src/MK_Deep_Learning_W5.ipynb\" target=\"_parent\"><img src=\"https://colab.research.google.com/assets/colab-badge.svg\" alt=\"Open In Colab\"/></a>"
      ]
    },
    {
      "cell_type": "markdown",
      "metadata": {
        "id": "22f1839a"
      },
      "source": [
        "## **Section 0: Initial Setup (Pengaturan Awal)**\n",
        "\n",
        "**Penjelasan:** Bagian ini bertujuan untuk melakukan instalasi library Python yang mungkin belum ada di lingkungan Google Colab secara default, serta me-mount Google Drive agar notebook dapat mengakses dataset yang tersimpan di dalamnya."
      ]
    },
    {
      "cell_type": "markdown",
      "metadata": {
        "id": "12f2ba06"
      },
      "source": [
        "### **0.1. Install Libraries (Instalasi Library)**\n",
        "\n",
        "**Penjelasan:** Menginstal library tambahan yang mungkin diperlukan, seperti versi spesifik dari tensorflow atau library lain yang tidak termasuk dalam instalasi Colab dasar. Saat ini, library utama seperti TensorFlow dan Keras sudah terinstal, namun baris ini dapat ditambahkan jika ada kebutuhan library lain di masa depan."
      ]
    },
    {
      "cell_type": "code",
      "metadata": {
        "id": "23020928"
      },
      "source": [
        "# Tidak ada instalasi library tambahan yang spesifik diperlukan untuk langkah dasar ini,\n",
        "# karena library utama seperti tensorflow sudah tersedia di Colab.\n",
        "# Jika ada library lain yang dibutuhkan, tambahkan baris berikut:\n",
        "# !pip install nama_library"
      ],
      "execution_count": 3,
      "outputs": []
    },
    {
      "cell_type": "markdown",
      "metadata": {
        "id": "075281b5"
      },
      "source": [
        "### **0.2. Mount Google Drive (Menghubungkan Google Drive)**\n",
        "\n",
        "**Penjelasan:** Menghubungkan notebook ini dengan akun Google Drive Anda. Ini diperlukan agar notebook dapat membaca file dataset gambar yang telah Anda simpan di Google Drive. Setelah menjalankan sel ini, ikuti instruksi otorisasi yang muncul."
      ]
    },
    {
      "cell_type": "code",
      "metadata": {
        "colab": {
          "base_uri": "https://localhost:8080/"
        },
        "id": "f58a1269",
        "outputId": "5eab219c-b6f3-4815-be62-1ad9fcb482a2"
      },
      "source": [
        "from google.colab import drive\n",
        "drive.mount('/content/drive')"
      ],
      "execution_count": 4,
      "outputs": [
        {
          "output_type": "stream",
          "name": "stdout",
          "text": [
            "Drive already mounted at /content/drive; to attempt to forcibly remount, call drive.mount(\"/content/drive\", force_remount=True).\n"
          ]
        }
      ]
    },
    {
      "cell_type": "markdown",
      "metadata": {
        "id": "4c13c338"
      },
      "source": [
        "## **Section 1: Import Libraries and Environment Setup (Impor Library dan Pengaturan Lingkungan)**\n",
        "\n",
        "**Penjelasan:** Di sini kita akan mengimpor semua modul dan library yang dibutuhkan untuk keseluruhan proyek serta mendefinisikan variabel-variabel global seperti path direktori, ukuran gambar, dan parameter training."
      ]
    },
    {
      "cell_type": "markdown",
      "metadata": {
        "id": "9576c1c5"
      },
      "source": [
        "### **1.1. Import Core Libraries (Impor Library Utama)**\n",
        "\n",
        "**Penjelasan:** Mengimpor library utama seperti tensorflow, keras, numpy, matplotlib.pyplot, os, dan seaborn yang akan digunakan sepanjang proyek ini."
      ]
    },
    {
      "cell_type": "code",
      "metadata": {
        "id": "b1ee94cf"
      },
      "source": [
        "import tensorflow as tf\n",
        "from tensorflow import keras\n",
        "from tensorflow.keras.preprocessing.image import ImageDataGenerator\n",
        "from tensorflow.keras.models import Sequential\n",
        "from tensorflow.keras.layers import Conv2D, MaxPooling2D, Flatten, Dense, Dropout, GlobalAveragePooling2D\n",
        "from tensorflow.keras.optimizers import Adam\n",
        "from tensorflow.keras.callbacks import ModelCheckpoint, EarlyStopping, ReduceLROnPlateau\n",
        "import numpy as np\n",
        "import matplotlib.pyplot as plt\n",
        "import os\n",
        "import seaborn as sns\n",
        "from sklearn.metrics import classification_report, confusion_matrix"
      ],
      "execution_count": 5,
      "outputs": []
    },
    {
      "cell_type": "markdown",
      "metadata": {
        "id": "b4adda93"
      },
      "source": [
        "### **1.2. Define Configurations (Definisi Konfigurasi)**\n",
        "\n",
        "**Penjelasan:** Mendefinisikan variabel-variabel konfigurasi yang akan digunakan di seluruh notebook, termasuk path ke dataset, ukuran gambar yang akan digunakan, ukuran batch untuk training, jumlah epoch, dan jumlah kelas (mahasiswa)."
      ]
    },
    {
      "cell_type": "code",
      "metadata": {
        "id": "752e8757"
      },
      "source": [
        "# Define Directory Paths (Definisi Path Direktori)\n",
        "TRAIN_DIR = '/content/drive/MyDrive/Dataset/Dataset Sistem Presensi Wajah V1.0/Data Train'\n",
        "TEST_DIR = '/content/drive/MyDrive/Dataset/Dataset Sistem Presensi Wajah V1.0/Data Test'\n",
        "\n",
        "# Define Image Parameters (Definisi Parameter Gambar)\n",
        "IMG_HEIGHT = 150\n",
        "IMG_WIDTH = 150\n",
        "CHANNELS = 3 # RGB color images\n",
        "\n",
        "# Define Training Parameters (Definisi Parameter Pelatihan)\n",
        "BATCH_SIZE = 32\n",
        "EPOCHS = 100 # Will be controlled by Early Stopping\n",
        "NUM_CLASSES = 57 # Total number of unique students"
      ],
      "execution_count": 6,
      "outputs": []
    },
    {
      "cell_type": "markdown",
      "metadata": {
        "id": "3a971a54"
      },
      "source": [
        "## **Section 2: Data Loading and Inspection (Pemuatan dan Inspeksi Data)**\n",
        "\n",
        "**Penjelasan:** Langkah ini bertujuan untuk memuat dataset, memeriksa strukturnya, dan menampilkan beberapa sampel gambar untuk memastikan data ter-load dengan benar."
      ]
    },
    {
      "cell_type": "markdown",
      "metadata": {
        "id": "8b3b95f6"
      },
      "source": [
        "### **2.1. Load Dataset Paths (Memuat Path Dataset)**\n",
        "\n",
        "**Penjelasan:** Kode untuk menghitung jumlah total gambar training dan testing."
      ]
    },
    {
      "cell_type": "code",
      "metadata": {
        "colab": {
          "base_uri": "https://localhost:8080/"
        },
        "id": "6f43d50b",
        "outputId": "a4eb3304-bf76-415f-b274-33118c484167"
      },
      "source": [
        "# Count the number of files in each directory\n",
        "train_image_count = sum([len(files) for r, d, files in os.walk(TRAIN_DIR)])\n",
        "test_image_count = sum([len(files) for r, d, files in os.walk(TEST_DIR)])\n",
        "\n",
        "print(f\"Jumlah total gambar di Data Train: {train_image_count}\")\n",
        "print(f\"Jumlah total gambar di Data Test: {test_image_count}\")\n",
        "\n",
        "# Get the class names (student names) from the directory names\n",
        "class_names = sorted(os.listdir(TRAIN_DIR))\n",
        "print(f\"\\nJumlah kelas (mahasiswa) terdeteksi: {len(class_names)}\")\n",
        "print(f\"Nama kelas (mahasiswa) contoh: {class_names[:10]}...\") # Display first 10 class names"
      ],
      "execution_count": 7,
      "outputs": [
        {
          "output_type": "stream",
          "name": "stdout",
          "text": [
            "Jumlah total gambar di Data Train: 1696\n",
            "Jumlah total gambar di Data Test: 424\n",
            "\n",
            "Jumlah kelas (mahasiswa) terdeteksi: 1696\n",
            "Nama kelas (mahasiswa) contoh: ['5221911012_Debora_03.jpg', '5221911012_Debora_04.jpg', '5221911012_Debora_05.jpg', '5221911012_Debora_06.jpg', '5221911012_Debora_07.jpg', '5221911012_Debora_08.jpg', '5221911012_Debora_11.jpg', '5221911012_Debora_12.jpg', '5221911012_Debora_13.jpg', '5221911012_Debora_14.jpg']...\n"
          ]
        }
      ]
    },
    {
      "cell_type": "markdown",
      "metadata": {
        "id": "dc1a900b"
      },
      "source": [
        "### **2.2. Inspect Class Distribution (Inspeksi Distribusi Kelas)**\n",
        "\n",
        "**Penjelasan:** Visualisasikan jumlah gambar per kelas untuk memastikan dataset seimbang."
      ]
    },
    {
      "cell_type": "code",
      "metadata": {
        "id": "04ab4461"
      },
      "source": [
        "# Count images per class by extracting class name from filename\n",
        "train_class_counts = {}\n",
        "for filename in os.listdir(TRAIN_DIR):\n",
        "    if filename.endswith('.jpg'): # Process only image files\n",
        "        # Extract class name from filename (assuming format like ID_Nama_Number.jpg)\n",
        "        class_name_parts = filename.split('_')\n",
        "        if len(class_name_parts) > 1:\n",
        "            # Assuming the second part is the name\n",
        "            class_name = class_name_parts[1]\n",
        "            # Handle potential extra parts or different naming conventions\n",
        "            if len(class_name_parts) > 2 and class_name_parts[2].isdigit():\n",
        "                 class_name = class_name # Keep only the name part if structure is consistent\n",
        "            elif len(class_name_parts) > 2 and not class_name_parts[2].isdigit():\n",
        "                 class_name = class_name_parts[1] + \" \" + class_name_parts[2].split('.')[0] # Handle names with spaces like \"Nama Belakang\"\n",
        "        else:\n",
        "            class_name = \"Unknown Class\" # Fallback if filename format is unexpected\n",
        "\n",
        "        if class_name in train_class_counts:\n",
        "            train_class_counts[class_name] += 1\n",
        "        else:\n",
        "            train_class_counts[class_name] = 1\n",
        "\n",
        "# Sort classes by count for better visualization\n",
        "sorted_class_counts = dict(sorted(train_class_counts.items(), key=lambda item: item[1]))\n",
        "\n",
        "# Plot class distribution\n",
        "plt.figure(figsize=(15, 7))\n",
        "plt.bar(sorted_class_counts.keys(), sorted_class_counts.values())\n",
        "plt.xticks(rotation=90)\n",
        "plt.xlabel(\"Nama Mahasiswa (Kelas)\")\n",
        "plt.ylabel(\"Jumlah Gambar di Data Train\")\n",
        "plt.title(\"Distribusi Jumlah Gambar per Mahasiswa (Data Train)\")\n",
        "plt.tight_layout()\n",
        "plt.show()"
      ],
      "execution_count": null,
      "outputs": []
    },
    {
      "cell_type": "code",
      "metadata": {
        "colab": {
          "base_uri": "https://localhost:8080/"
        },
        "id": "29d2f2e8",
        "outputId": "4f819b58-b9fa-4da8-eeb0-1d3fbf6a0510"
      },
      "source": [
        "# Check if all class counts are the same\n",
        "if len(train_class_counts) > 0:\n",
        "    first_count = list(train_class_counts.values())[0]\n",
        "    all_counts_same = all(count == first_count for count in train_class_counts.values())\n",
        "\n",
        "    if all_counts_same:\n",
        "        print(\"\\nSemua mahasiswa memiliki jumlah gambar yang sama di Data Train.\")\n",
        "    else:\n",
        "        print(\"\\nJumlah gambar per mahasiswa di Data Train bervariasi.\")\n",
        "else:\n",
        "    print(\"\\nTidak ada data kelas yang ditemukan untuk diperiksa.\")"
      ],
      "execution_count": 12,
      "outputs": [
        {
          "output_type": "stream",
          "name": "stdout",
          "text": [
            "\n",
            "Jumlah gambar per mahasiswa di Data Train bervariasi.\n"
          ]
        }
      ]
    },
    {
      "cell_type": "markdown",
      "metadata": {
        "id": "6f2edef2"
      },
      "source": [
        "### **2.3. Visualize Sample Images (Visualisasi Sampel Gambar)**\n",
        "\n",
        "**Penjelasan:** Tampilkan beberapa gambar acak dari dataset training beserta labelnya untuk melihat variasi pose, ekspresi, dan pencahayaan yang ada."
      ]
    },
    {
      "cell_type": "code",
      "metadata": {
        "id": "96e26ec5"
      },
      "source": [
        "plt.figure(figsize=(10, 10))\n",
        "# Get all image files from the training directory\n",
        "all_train_images = [os.path.join(TRAIN_DIR, f) for f in os.listdir(TRAIN_DIR) if f.endswith('.jpg')]\n",
        "\n",
        "# Check if there are enough images\n",
        "if len(all_train_images) < 9:\n",
        "    print(f\"Tidak cukup gambar ({len(all_train_images)}) di direktori training untuk menampilkan 9 sampel.\")\n",
        "else:\n",
        "    # Select 9 random images\n",
        "    sample_images_paths = np.random.choice(all_train_images, size=9, replace=False)\n",
        "\n",
        "    for i, img_path in enumerate(sample_images_paths):\n",
        "        plt.subplot(3, 3, i + 1)\n",
        "        img = plt.imread(img_path)\n",
        "        plt.imshow(img)\n",
        "        # Extract class name from filename (assuming format like ID_Nama_Number.jpg)\n",
        "        filename = os.path.basename(img_path)\n",
        "        class_name_parts = filename.split('_')\n",
        "        if len(class_name_parts) > 1:\n",
        "            # Assuming the second part is the name\n",
        "            class_name = class_name_parts[1]\n",
        "            # Handle potential extra parts or different naming conventions\n",
        "            if len(class_name_parts) > 2 and class_name_parts[2].isdigit():\n",
        "                 class_name = class_name # Keep only the name part if structure is consistent\n",
        "            elif len(class_name_parts) > 2 and not class_name_parts[2].isdigit():\n",
        "                 class_name = class_name_parts[1] + \" \" + class_name_parts[2].split('.')[0] # Handle names with spaces like \"Nama Belakang\"\n",
        "        else:\n",
        "            class_name = \"Unknown Class\" # Fallback if filename format is unexpected\n",
        "\n",
        "        plt.title(class_name)\n",
        "        plt.axis(\"off\")\n",
        "\n",
        "    plt.tight_layout()\n",
        "    plt.show()"
      ],
      "execution_count": null,
      "outputs": []
    },
    {
      "cell_type": "markdown",
      "metadata": {
        "id": "fb7c3372"
      },
      "source": [
        "## **Section 3: Data Preparation and Augmentation (Persiapan dan Augmentasi Data)**\n",
        "\n",
        "**Penjelasan:** Ini adalah langkah krusial. Mengingat variasi dalam dataset, kita akan menerapkan teknik augmentasi data secara real-time pada data training untuk membuat model lebih general dan tangguh (robust) terhadap variasi, sehingga mencegah overfitting."
      ]
    },
    {
      "cell_type": "markdown",
      "metadata": {
        "id": "90d9a34e"
      },
      "source": [
        "### **3.1. Create Data Generators (Membuat Generator Data)**\n",
        "\n",
        "**Penjelasan:** Gunakan ImageDataGenerator dari Keras untuk menyiapkan data."
      ]
    },
    {
      "cell_type": "code",
      "metadata": {
        "id": "974be0cc"
      },
      "source": [
        "from tensorflow.keras.preprocessing.image import ImageDataGenerator"
      ],
      "execution_count": 14,
      "outputs": []
    },
    {
      "cell_type": "markdown",
      "metadata": {
        "id": "c0007151"
      },
      "source": [
        "### **3.2. Training Data Generator with Augmentation (Generator Data Training dengan Augmentasi)**\n",
        "\n",
        "**Penjelasan:** Terapkan augmentasi yang relevan pada data training untuk meningkatkan variasi dan membantu model belajar fitur yang lebih robust."
      ]
    },
    {
      "cell_type": "code",
      "metadata": {
        "id": "52aa931e"
      },
      "source": [
        "train_datagen = ImageDataGenerator(\n",
        "    rescale=1./255,           # Normalisasi piksel\n",
        "    rotation_range=20,        # Variasi pose miring\n",
        "    width_shift_range=0.2,    # Pergeseran horizontal\n",
        "    height_shift_range=0.2,   # Pergeseran vertikal\n",
        "    shear_range=0.2,          # Transformasi shear\n",
        "    zoom_range=0.2,           # Zoom acak\n",
        "    brightness_range=[0.8, 1.2], # Variasi pencahayaan\n",
        "    horizontal_flip=True,     # Flip horizontal\n",
        "    fill_mode='nearest'       # Strategi mengisi piksel baru setelah transformasi\n",
        ")"
      ],
      "execution_count": 15,
      "outputs": []
    },
    {
      "cell_type": "markdown",
      "metadata": {
        "id": "b39afce2"
      },
      "source": [
        "### **3.3. Validation/Test Data Generator (Generator Data Validasi/Tes)**\n",
        "\n",
        "**Penjelasan:** Untuk data validasi/tes, HANYA terapkan normalisasi piksel. Augmentasi tidak boleh diterapkan pada data tes karena tujuannya adalah mengevaluasi model pada data yang tidak dimanipulasi."
      ]
    },
    {
      "cell_type": "code",
      "metadata": {
        "id": "6ada5dae"
      },
      "source": [
        "test_datagen = ImageDataGenerator(rescale=1./255) # Hanya normalisasi"
      ],
      "execution_count": 16,
      "outputs": []
    },
    {
      "cell_type": "markdown",
      "metadata": {
        "id": "5154ed76"
      },
      "source": [
        "### **3.4. Apply the Generators (Menerapkan Generator)**\n",
        "\n",
        "**Penjelasan:** Gunakan `flow_from_directory()` untuk memuat gambar dari direktori menggunakan generator yang telah dibuat. Pastikan `target_size`, `batch_size`, dan `class_mode` diatur dengan benar. Karena struktur folder Anda tampaknya tidak memiliki subdirektori per kelas, kita perlu menggunakan `flow_from_dataframe` atau pendekatan lain jika `flow_from_directory` tidak bekerja dengan struktur file Anda.\n",
        "\n",
        "**Catatan:** Berdasarkan inspeksi data sebelumnya, tampaknya gambar-gambar langsung berada di dalam `TRAIN_DIR` dan `TEST_DIR` tanpa sub-folder per kelas. `flow_from_directory` memerlukan sub-folder per kelas. Jika struktur folder Anda memang seperti itu, kita perlu menggunakan pendekatan yang berbeda, mungkin dengan membuat dataframe dari nama file dan labelnya, lalu menggunakan `flow_from_dataframe`. Namun, jika Anda dapat mengatur ulang dataset Anda ke dalam sub-folder per kelas (misalnya, `Data Train/Nama_Mahasiswa_1/...`, `Data Train/Nama_Mahasiswa_2/...`, dst.), `flow_from_directory` adalah cara yang paling standar.\n",
        "\n",
        "**Asumsi:** Untuk sementara, saya akan mengasumsikan bahwa Anda akan mengatur ulang dataset Anda ke dalam sub-folder per kelas agar `flow_from_directory` dapat digunakan. Jika tidak, mohon beri tahu saya, dan saya akan menyesuaikan kodenya."
      ]
    },
    {
      "cell_type": "code",
      "metadata": {
        "colab": {
          "base_uri": "https://localhost:8080/",
          "height": 554
        },
        "id": "9ad624ec",
        "outputId": "8591e551-f743-415c-d023-31a861f6c084"
      },
      "source": [
        "import pandas as pd\n",
        "\n",
        "# Create DataFrames for training and testing\n",
        "def create_dataframe(directory):\n",
        "    filepaths = []\n",
        "    labels = []\n",
        "    for filename in os.listdir(directory):\n",
        "        if filename.endswith('.jpg'):\n",
        "            filepath = os.path.join(directory, filename)\n",
        "            # Extract class name from filename (assuming format like ID_Nama_Number.jpg)\n",
        "            class_name_parts = filename.split('_')\n",
        "            if len(class_name_parts) > 1:\n",
        "                class_name = class_name_parts[1]\n",
        "                if len(class_name_parts) > 2 and class_name_parts[2].isdigit():\n",
        "                    class_name = class_name\n",
        "                elif len(class_name_parts) > 2 and not class_name_parts[2].isdigit():\n",
        "                    class_name = class_name_parts[1] + \" \" + class_name_parts[2].split('.')[0]\n",
        "            else:\n",
        "                class_name = \"Unknown Class\"\n",
        "            filepaths.append(filepath)\n",
        "            labels.append(class_name)\n",
        "    return pd.DataFrame({'filepath': filepaths, 'class': labels})\n",
        "\n",
        "train_df = create_dataframe(TRAIN_DIR)\n",
        "test_df = create_dataframe(TEST_DIR)\n",
        "\n",
        "print(\"Training DataFrame Head:\")\n",
        "display(train_df.head())\n",
        "print(\"\\nTesting DataFrame Head:\")\n",
        "display(test_df.head())\n",
        "\n",
        "# Use flow_from_dataframe\n",
        "train_generator = train_datagen.flow_from_dataframe(\n",
        "    dataframe=train_df,\n",
        "    x_col='filepath',\n",
        "    y_col='class',\n",
        "    target_size=(IMG_HEIGHT, IMG_WIDTH),\n",
        "    batch_size=BATCH_SIZE,\n",
        "    class_mode='categorical'\n",
        ")\n",
        "\n",
        "test_generator = test_datagen.flow_from_dataframe(\n",
        "    dataframe=test_df,\n",
        "    x_col='filepath',\n",
        "    y_col='class',\n",
        "    target_size=(IMG_HEIGHT, IMG_WIDTH),\n",
        "    batch_size=BATCH_SIZE,\n",
        "    class_mode='categorical',\n",
        "    shuffle=False # Keep data in order for evaluation later\n",
        ")\n",
        "\n",
        "# Update NUM_CLASSES based on generators\n",
        "NUM_CLASSES = len(train_generator.class_indices)\n",
        "print(f\"\\nJumlah kelas (mahasiswa) terdeteksi oleh generator: {NUM_CLASSES}\")\n",
        "print(f\"Indeks kelas: {train_generator.class_indices}\")"
      ],
      "execution_count": 19,
      "outputs": [
        {
          "output_type": "stream",
          "name": "stdout",
          "text": [
            "Training DataFrame Head:\n"
          ]
        },
        {
          "output_type": "display_data",
          "data": {
            "text/plain": [
              "                                            filepath      class\n",
              "0  /content/drive/MyDrive/Dataset/Dataset Sistem ...  Novera 34\n",
              "1  /content/drive/MyDrive/Dataset/Dataset Sistem ...  Novera 38\n",
              "2  /content/drive/MyDrive/Dataset/Dataset Sistem ...  Novera 39\n",
              "3  /content/drive/MyDrive/Dataset/Dataset Sistem ...  Novera 31\n",
              "4  /content/drive/MyDrive/Dataset/Dataset Sistem ...  Novera 32"
            ],
            "text/html": [
              "\n",
              "  <div id=\"df-55c38e95-bdab-43cd-83d9-40052f706f52\" class=\"colab-df-container\">\n",
              "    <div>\n",
              "<style scoped>\n",
              "    .dataframe tbody tr th:only-of-type {\n",
              "        vertical-align: middle;\n",
              "    }\n",
              "\n",
              "    .dataframe tbody tr th {\n",
              "        vertical-align: top;\n",
              "    }\n",
              "\n",
              "    .dataframe thead th {\n",
              "        text-align: right;\n",
              "    }\n",
              "</style>\n",
              "<table border=\"1\" class=\"dataframe\">\n",
              "  <thead>\n",
              "    <tr style=\"text-align: right;\">\n",
              "      <th></th>\n",
              "      <th>filepath</th>\n",
              "      <th>class</th>\n",
              "    </tr>\n",
              "  </thead>\n",
              "  <tbody>\n",
              "    <tr>\n",
              "      <th>0</th>\n",
              "      <td>/content/drive/MyDrive/Dataset/Dataset Sistem ...</td>\n",
              "      <td>Novera 34</td>\n",
              "    </tr>\n",
              "    <tr>\n",
              "      <th>1</th>\n",
              "      <td>/content/drive/MyDrive/Dataset/Dataset Sistem ...</td>\n",
              "      <td>Novera 38</td>\n",
              "    </tr>\n",
              "    <tr>\n",
              "      <th>2</th>\n",
              "      <td>/content/drive/MyDrive/Dataset/Dataset Sistem ...</td>\n",
              "      <td>Novera 39</td>\n",
              "    </tr>\n",
              "    <tr>\n",
              "      <th>3</th>\n",
              "      <td>/content/drive/MyDrive/Dataset/Dataset Sistem ...</td>\n",
              "      <td>Novera 31</td>\n",
              "    </tr>\n",
              "    <tr>\n",
              "      <th>4</th>\n",
              "      <td>/content/drive/MyDrive/Dataset/Dataset Sistem ...</td>\n",
              "      <td>Novera 32</td>\n",
              "    </tr>\n",
              "  </tbody>\n",
              "</table>\n",
              "</div>\n",
              "    <div class=\"colab-df-buttons\">\n",
              "\n",
              "  <div class=\"colab-df-container\">\n",
              "    <button class=\"colab-df-convert\" onclick=\"convertToInteractive('df-55c38e95-bdab-43cd-83d9-40052f706f52')\"\n",
              "            title=\"Convert this dataframe to an interactive table.\"\n",
              "            style=\"display:none;\">\n",
              "\n",
              "  <svg xmlns=\"http://www.w3.org/2000/svg\" height=\"24px\" viewBox=\"0 -960 960 960\">\n",
              "    <path d=\"M120-120v-720h720v720H120Zm60-500h600v-160H180v160Zm220 220h160v-160H400v160Zm0 220h160v-160H400v160ZM180-400h160v-160H180v160Zm440 0h160v-160H620v160ZM180-180h160v-160H180v160Zm440 0h160v-160H620v160Z\"/>\n",
              "  </svg>\n",
              "    </button>\n",
              "\n",
              "  <style>\n",
              "    .colab-df-container {\n",
              "      display:flex;\n",
              "      gap: 12px;\n",
              "    }\n",
              "\n",
              "    .colab-df-convert {\n",
              "      background-color: #E8F0FE;\n",
              "      border: none;\n",
              "      border-radius: 50%;\n",
              "      cursor: pointer;\n",
              "      display: none;\n",
              "      fill: #1967D2;\n",
              "      height: 32px;\n",
              "      padding: 0 0 0 0;\n",
              "      width: 32px;\n",
              "    }\n",
              "\n",
              "    .colab-df-convert:hover {\n",
              "      background-color: #E2EBFA;\n",
              "      box-shadow: 0px 1px 2px rgba(60, 64, 67, 0.3), 0px 1px 3px 1px rgba(60, 64, 67, 0.15);\n",
              "      fill: #174EA6;\n",
              "    }\n",
              "\n",
              "    .colab-df-buttons div {\n",
              "      margin-bottom: 4px;\n",
              "    }\n",
              "\n",
              "    [theme=dark] .colab-df-convert {\n",
              "      background-color: #3B4455;\n",
              "      fill: #D2E3FC;\n",
              "    }\n",
              "\n",
              "    [theme=dark] .colab-df-convert:hover {\n",
              "      background-color: #434B5C;\n",
              "      box-shadow: 0px 1px 3px 1px rgba(0, 0, 0, 0.15);\n",
              "      filter: drop-shadow(0px 1px 2px rgba(0, 0, 0, 0.3));\n",
              "      fill: #FFFFFF;\n",
              "    }\n",
              "  </style>\n",
              "\n",
              "    <script>\n",
              "      const buttonEl =\n",
              "        document.querySelector('#df-55c38e95-bdab-43cd-83d9-40052f706f52 button.colab-df-convert');\n",
              "      buttonEl.style.display =\n",
              "        google.colab.kernel.accessAllowed ? 'block' : 'none';\n",
              "\n",
              "      async function convertToInteractive(key) {\n",
              "        const element = document.querySelector('#df-55c38e95-bdab-43cd-83d9-40052f706f52');\n",
              "        const dataTable =\n",
              "          await google.colab.kernel.invokeFunction('convertToInteractive',\n",
              "                                                    [key], {});\n",
              "        if (!dataTable) return;\n",
              "\n",
              "        const docLinkHtml = 'Like what you see? Visit the ' +\n",
              "          '<a target=\"_blank\" href=https://colab.research.google.com/notebooks/data_table.ipynb>data table notebook</a>'\n",
              "          + ' to learn more about interactive tables.';\n",
              "        element.innerHTML = '';\n",
              "        dataTable['output_type'] = 'display_data';\n",
              "        await google.colab.output.renderOutput(dataTable, element);\n",
              "        const docLink = document.createElement('div');\n",
              "        docLink.innerHTML = docLinkHtml;\n",
              "        element.appendChild(docLink);\n",
              "      }\n",
              "    </script>\n",
              "  </div>\n",
              "\n",
              "\n",
              "    <div id=\"df-d9a843c6-d675-49d4-ab83-ec3b2368e338\">\n",
              "      <button class=\"colab-df-quickchart\" onclick=\"quickchart('df-d9a843c6-d675-49d4-ab83-ec3b2368e338')\"\n",
              "                title=\"Suggest charts\"\n",
              "                style=\"display:none;\">\n",
              "\n",
              "<svg xmlns=\"http://www.w3.org/2000/svg\" height=\"24px\"viewBox=\"0 0 24 24\"\n",
              "     width=\"24px\">\n",
              "    <g>\n",
              "        <path d=\"M19 3H5c-1.1 0-2 .9-2 2v14c0 1.1.9 2 2 2h14c1.1 0 2-.9 2-2V5c0-1.1-.9-2-2-2zM9 17H7v-7h2v7zm4 0h-2V7h2v10zm4 0h-2v-4h2v4z\"/>\n",
              "    </g>\n",
              "</svg>\n",
              "      </button>\n",
              "\n",
              "<style>\n",
              "  .colab-df-quickchart {\n",
              "      --bg-color: #E8F0FE;\n",
              "      --fill-color: #1967D2;\n",
              "      --hover-bg-color: #E2EBFA;\n",
              "      --hover-fill-color: #174EA6;\n",
              "      --disabled-fill-color: #AAA;\n",
              "      --disabled-bg-color: #DDD;\n",
              "  }\n",
              "\n",
              "  [theme=dark] .colab-df-quickchart {\n",
              "      --bg-color: #3B4455;\n",
              "      --fill-color: #D2E3FC;\n",
              "      --hover-bg-color: #434B5C;\n",
              "      --hover-fill-color: #FFFFFF;\n",
              "      --disabled-bg-color: #3B4455;\n",
              "      --disabled-fill-color: #666;\n",
              "  }\n",
              "\n",
              "  .colab-df-quickchart {\n",
              "    background-color: var(--bg-color);\n",
              "    border: none;\n",
              "    border-radius: 50%;\n",
              "    cursor: pointer;\n",
              "    display: none;\n",
              "    fill: var(--fill-color);\n",
              "    height: 32px;\n",
              "    padding: 0;\n",
              "    width: 32px;\n",
              "  }\n",
              "\n",
              "  .colab-df-quickchart:hover {\n",
              "    background-color: var(--hover-bg-color);\n",
              "    box-shadow: 0 1px 2px rgba(60, 64, 67, 0.3), 0 1px 3px 1px rgba(60, 64, 67, 0.15);\n",
              "    fill: var(--button-hover-fill-color);\n",
              "  }\n",
              "\n",
              "  .colab-df-quickchart-complete:disabled,\n",
              "  .colab-df-quickchart-complete:disabled:hover {\n",
              "    background-color: var(--disabled-bg-color);\n",
              "    fill: var(--disabled-fill-color);\n",
              "    box-shadow: none;\n",
              "  }\n",
              "\n",
              "  .colab-df-spinner {\n",
              "    border: 2px solid var(--fill-color);\n",
              "    border-color: transparent;\n",
              "    border-bottom-color: var(--fill-color);\n",
              "    animation:\n",
              "      spin 1s steps(1) infinite;\n",
              "  }\n",
              "\n",
              "  @keyframes spin {\n",
              "    0% {\n",
              "      border-color: transparent;\n",
              "      border-bottom-color: var(--fill-color);\n",
              "      border-left-color: var(--fill-color);\n",
              "    }\n",
              "    20% {\n",
              "      border-color: transparent;\n",
              "      border-left-color: var(--fill-color);\n",
              "      border-top-color: var(--fill-color);\n",
              "    }\n",
              "    30% {\n",
              "      border-color: transparent;\n",
              "      border-left-color: var(--fill-color);\n",
              "      border-top-color: var(--fill-color);\n",
              "      border-right-color: var(--fill-color);\n",
              "    }\n",
              "    40% {\n",
              "      border-color: transparent;\n",
              "      border-right-color: var(--fill-color);\n",
              "      border-top-color: var(--fill-color);\n",
              "    }\n",
              "    60% {\n",
              "      border-color: transparent;\n",
              "      border-right-color: var(--fill-color);\n",
              "    }\n",
              "    80% {\n",
              "      border-color: transparent;\n",
              "      border-right-color: var(--fill-color);\n",
              "      border-bottom-color: var(--fill-color);\n",
              "    }\n",
              "    90% {\n",
              "      border-color: transparent;\n",
              "      border-bottom-color: var(--fill-color);\n",
              "    }\n",
              "  }\n",
              "</style>\n",
              "\n",
              "      <script>\n",
              "        async function quickchart(key) {\n",
              "          const quickchartButtonEl =\n",
              "            document.querySelector('#' + key + ' button');\n",
              "          quickchartButtonEl.disabled = true;  // To prevent multiple clicks.\n",
              "          quickchartButtonEl.classList.add('colab-df-spinner');\n",
              "          try {\n",
              "            const charts = await google.colab.kernel.invokeFunction(\n",
              "                'suggestCharts', [key], {});\n",
              "          } catch (error) {\n",
              "            console.error('Error during call to suggestCharts:', error);\n",
              "          }\n",
              "          quickchartButtonEl.classList.remove('colab-df-spinner');\n",
              "          quickchartButtonEl.classList.add('colab-df-quickchart-complete');\n",
              "        }\n",
              "        (() => {\n",
              "          let quickchartButtonEl =\n",
              "            document.querySelector('#df-d9a843c6-d675-49d4-ab83-ec3b2368e338 button');\n",
              "          quickchartButtonEl.style.display =\n",
              "            google.colab.kernel.accessAllowed ? 'block' : 'none';\n",
              "        })();\n",
              "      </script>\n",
              "    </div>\n",
              "\n",
              "    </div>\n",
              "  </div>\n"
            ],
            "application/vnd.google.colaboratory.intrinsic+json": {
              "type": "dataframe",
              "summary": "{\n  \"name\": \"print(f\\\"Indeks kelas: {train_generator\",\n  \"rows\": 5,\n  \"fields\": [\n    {\n      \"column\": \"filepath\",\n      \"properties\": {\n        \"dtype\": \"string\",\n        \"num_unique_values\": 5,\n        \"samples\": [\n          \"/content/drive/MyDrive/Dataset/Dataset Sistem Presensi Wajah V1.0/Data Train/5231811025_Novera_38.jpg\",\n          \"/content/drive/MyDrive/Dataset/Dataset Sistem Presensi Wajah V1.0/Data Train/5231811025_Novera_32.jpg\",\n          \"/content/drive/MyDrive/Dataset/Dataset Sistem Presensi Wajah V1.0/Data Train/5231811025_Novera_39.jpg\"\n        ],\n        \"semantic_type\": \"\",\n        \"description\": \"\"\n      }\n    },\n    {\n      \"column\": \"class\",\n      \"properties\": {\n        \"dtype\": \"string\",\n        \"num_unique_values\": 5,\n        \"samples\": [\n          \"Novera 38\",\n          \"Novera 32\",\n          \"Novera 39\"\n        ],\n        \"semantic_type\": \"\",\n        \"description\": \"\"\n      }\n    }\n  ]\n}"
            }
          },
          "metadata": {}
        },
        {
          "output_type": "stream",
          "name": "stdout",
          "text": [
            "\n",
            "Testing DataFrame Head:\n"
          ]
        },
        {
          "output_type": "display_data",
          "data": {
            "text/plain": [
              "                                            filepath                   class\n",
              "0  /content/drive/MyDrive/Dataset/Dataset Sistem ...           Unknown Class\n",
              "1  /content/drive/MyDrive/Dataset/Dataset Sistem ...  MichaelAndrewDeHaan 01\n",
              "2  /content/drive/MyDrive/Dataset/Dataset Sistem ...           Unknown Class\n",
              "3  /content/drive/MyDrive/Dataset/Dataset Sistem ...               Debora 01\n",
              "4  /content/drive/MyDrive/Dataset/Dataset Sistem ...               Debora 09"
            ],
            "text/html": [
              "\n",
              "  <div id=\"df-093f1d5f-5a2e-4454-873c-4f5c3a72e192\" class=\"colab-df-container\">\n",
              "    <div>\n",
              "<style scoped>\n",
              "    .dataframe tbody tr th:only-of-type {\n",
              "        vertical-align: middle;\n",
              "    }\n",
              "\n",
              "    .dataframe tbody tr th {\n",
              "        vertical-align: top;\n",
              "    }\n",
              "\n",
              "    .dataframe thead th {\n",
              "        text-align: right;\n",
              "    }\n",
              "</style>\n",
              "<table border=\"1\" class=\"dataframe\">\n",
              "  <thead>\n",
              "    <tr style=\"text-align: right;\">\n",
              "      <th></th>\n",
              "      <th>filepath</th>\n",
              "      <th>class</th>\n",
              "    </tr>\n",
              "  </thead>\n",
              "  <tbody>\n",
              "    <tr>\n",
              "      <th>0</th>\n",
              "      <td>/content/drive/MyDrive/Dataset/Dataset Sistem ...</td>\n",
              "      <td>Unknown Class</td>\n",
              "    </tr>\n",
              "    <tr>\n",
              "      <th>1</th>\n",
              "      <td>/content/drive/MyDrive/Dataset/Dataset Sistem ...</td>\n",
              "      <td>MichaelAndrewDeHaan 01</td>\n",
              "    </tr>\n",
              "    <tr>\n",
              "      <th>2</th>\n",
              "      <td>/content/drive/MyDrive/Dataset/Dataset Sistem ...</td>\n",
              "      <td>Unknown Class</td>\n",
              "    </tr>\n",
              "    <tr>\n",
              "      <th>3</th>\n",
              "      <td>/content/drive/MyDrive/Dataset/Dataset Sistem ...</td>\n",
              "      <td>Debora 01</td>\n",
              "    </tr>\n",
              "    <tr>\n",
              "      <th>4</th>\n",
              "      <td>/content/drive/MyDrive/Dataset/Dataset Sistem ...</td>\n",
              "      <td>Debora 09</td>\n",
              "    </tr>\n",
              "  </tbody>\n",
              "</table>\n",
              "</div>\n",
              "    <div class=\"colab-df-buttons\">\n",
              "\n",
              "  <div class=\"colab-df-container\">\n",
              "    <button class=\"colab-df-convert\" onclick=\"convertToInteractive('df-093f1d5f-5a2e-4454-873c-4f5c3a72e192')\"\n",
              "            title=\"Convert this dataframe to an interactive table.\"\n",
              "            style=\"display:none;\">\n",
              "\n",
              "  <svg xmlns=\"http://www.w3.org/2000/svg\" height=\"24px\" viewBox=\"0 -960 960 960\">\n",
              "    <path d=\"M120-120v-720h720v720H120Zm60-500h600v-160H180v160Zm220 220h160v-160H400v160Zm0 220h160v-160H400v160ZM180-400h160v-160H180v160Zm440 0h160v-160H620v160ZM180-180h160v-160H180v160Zm440 0h160v-160H620v160Z\"/>\n",
              "  </svg>\n",
              "    </button>\n",
              "\n",
              "  <style>\n",
              "    .colab-df-container {\n",
              "      display:flex;\n",
              "      gap: 12px;\n",
              "    }\n",
              "\n",
              "    .colab-df-convert {\n",
              "      background-color: #E8F0FE;\n",
              "      border: none;\n",
              "      border-radius: 50%;\n",
              "      cursor: pointer;\n",
              "      display: none;\n",
              "      fill: #1967D2;\n",
              "      height: 32px;\n",
              "      padding: 0 0 0 0;\n",
              "      width: 32px;\n",
              "    }\n",
              "\n",
              "    .colab-df-convert:hover {\n",
              "      background-color: #E2EBFA;\n",
              "      box-shadow: 0px 1px 2px rgba(60, 64, 67, 0.3), 0px 1px 3px 1px rgba(60, 64, 67, 0.15);\n",
              "      fill: #174EA6;\n",
              "    }\n",
              "\n",
              "    .colab-df-buttons div {\n",
              "      margin-bottom: 4px;\n",
              "    }\n",
              "\n",
              "    [theme=dark] .colab-df-convert {\n",
              "      background-color: #3B4455;\n",
              "      fill: #D2E3FC;\n",
              "    }\n",
              "\n",
              "    [theme=dark] .colab-df-convert:hover {\n",
              "      background-color: #434B5C;\n",
              "      box-shadow: 0px 1px 3px 1px rgba(0, 0, 0, 0.15);\n",
              "      filter: drop-shadow(0px 1px 2px rgba(0, 0, 0, 0.3));\n",
              "      fill: #FFFFFF;\n",
              "    }\n",
              "  </style>\n",
              "\n",
              "    <script>\n",
              "      const buttonEl =\n",
              "        document.querySelector('#df-093f1d5f-5a2e-4454-873c-4f5c3a72e192 button.colab-df-convert');\n",
              "      buttonEl.style.display =\n",
              "        google.colab.kernel.accessAllowed ? 'block' : 'none';\n",
              "\n",
              "      async function convertToInteractive(key) {\n",
              "        const element = document.querySelector('#df-093f1d5f-5a2e-4454-873c-4f5c3a72e192');\n",
              "        const dataTable =\n",
              "          await google.colab.kernel.invokeFunction('convertToInteractive',\n",
              "                                                    [key], {});\n",
              "        if (!dataTable) return;\n",
              "\n",
              "        const docLinkHtml = 'Like what you see? Visit the ' +\n",
              "          '<a target=\"_blank\" href=https://colab.research.google.com/notebooks/data_table.ipynb>data table notebook</a>'\n",
              "          + ' to learn more about interactive tables.';\n",
              "        element.innerHTML = '';\n",
              "        dataTable['output_type'] = 'display_data';\n",
              "        await google.colab.output.renderOutput(dataTable, element);\n",
              "        const docLink = document.createElement('div');\n",
              "        docLink.innerHTML = docLinkHtml;\n",
              "        element.appendChild(docLink);\n",
              "      }\n",
              "    </script>\n",
              "  </div>\n",
              "\n",
              "\n",
              "    <div id=\"df-5b64beae-fbd5-4b32-8e17-687b35f66fce\">\n",
              "      <button class=\"colab-df-quickchart\" onclick=\"quickchart('df-5b64beae-fbd5-4b32-8e17-687b35f66fce')\"\n",
              "                title=\"Suggest charts\"\n",
              "                style=\"display:none;\">\n",
              "\n",
              "<svg xmlns=\"http://www.w3.org/2000/svg\" height=\"24px\"viewBox=\"0 0 24 24\"\n",
              "     width=\"24px\">\n",
              "    <g>\n",
              "        <path d=\"M19 3H5c-1.1 0-2 .9-2 2v14c0 1.1.9 2 2 2h14c1.1 0 2-.9 2-2V5c0-1.1-.9-2-2-2zM9 17H7v-7h2v7zm4 0h-2V7h2v10zm4 0h-2v-4h2v4z\"/>\n",
              "    </g>\n",
              "</svg>\n",
              "      </button>\n",
              "\n",
              "<style>\n",
              "  .colab-df-quickchart {\n",
              "      --bg-color: #E8F0FE;\n",
              "      --fill-color: #1967D2;\n",
              "      --hover-bg-color: #E2EBFA;\n",
              "      --hover-fill-color: #174EA6;\n",
              "      --disabled-fill-color: #AAA;\n",
              "      --disabled-bg-color: #DDD;\n",
              "  }\n",
              "\n",
              "  [theme=dark] .colab-df-quickchart {\n",
              "      --bg-color: #3B4455;\n",
              "      --fill-color: #D2E3FC;\n",
              "      --hover-bg-color: #434B5C;\n",
              "      --hover-fill-color: #FFFFFF;\n",
              "      --disabled-bg-color: #3B4455;\n",
              "      --disabled-fill-color: #666;\n",
              "  }\n",
              "\n",
              "  .colab-df-quickchart {\n",
              "    background-color: var(--bg-color);\n",
              "    border: none;\n",
              "    border-radius: 50%;\n",
              "    cursor: pointer;\n",
              "    display: none;\n",
              "    fill: var(--fill-color);\n",
              "    height: 32px;\n",
              "    padding: 0;\n",
              "    width: 32px;\n",
              "  }\n",
              "\n",
              "  .colab-df-quickchart:hover {\n",
              "    background-color: var(--hover-bg-color);\n",
              "    box-shadow: 0 1px 2px rgba(60, 64, 67, 0.3), 0 1px 3px 1px rgba(60, 64, 67, 0.15);\n",
              "    fill: var(--button-hover-fill-color);\n",
              "  }\n",
              "\n",
              "  .colab-df-quickchart-complete:disabled,\n",
              "  .colab-df-quickchart-complete:disabled:hover {\n",
              "    background-color: var(--disabled-bg-color);\n",
              "    fill: var(--disabled-fill-color);\n",
              "    box-shadow: none;\n",
              "  }\n",
              "\n",
              "  .colab-df-spinner {\n",
              "    border: 2px solid var(--fill-color);\n",
              "    border-color: transparent;\n",
              "    border-bottom-color: var(--fill-color);\n",
              "    animation:\n",
              "      spin 1s steps(1) infinite;\n",
              "  }\n",
              "\n",
              "  @keyframes spin {\n",
              "    0% {\n",
              "      border-color: transparent;\n",
              "      border-bottom-color: var(--fill-color);\n",
              "      border-left-color: var(--fill-color);\n",
              "    }\n",
              "    20% {\n",
              "      border-color: transparent;\n",
              "      border-left-color: var(--fill-color);\n",
              "      border-top-color: var(--fill-color);\n",
              "    }\n",
              "    30% {\n",
              "      border-color: transparent;\n",
              "      border-left-color: var(--fill-color);\n",
              "      border-top-color: var(--fill-color);\n",
              "      border-right-color: var(--fill-color);\n",
              "    }\n",
              "    40% {\n",
              "      border-color: transparent;\n",
              "      border-right-color: var(--fill-color);\n",
              "      border-top-color: var(--fill-color);\n",
              "    }\n",
              "    60% {\n",
              "      border-color: transparent;\n",
              "      border-right-color: var(--fill-color);\n",
              "    }\n",
              "    80% {\n",
              "      border-color: transparent;\n",
              "      border-right-color: var(--fill-color);\n",
              "      border-bottom-color: var(--fill-color);\n",
              "    }\n",
              "    90% {\n",
              "      border-color: transparent;\n",
              "      border-bottom-color: var(--fill-color);\n",
              "    }\n",
              "  }\n",
              "</style>\n",
              "\n",
              "      <script>\n",
              "        async function quickchart(key) {\n",
              "          const quickchartButtonEl =\n",
              "            document.querySelector('#' + key + ' button');\n",
              "          quickchartButtonEl.disabled = true;  // To prevent multiple clicks.\n",
              "          quickchartButtonEl.classList.add('colab-df-spinner');\n",
              "          try {\n",
              "            const charts = await google.colab.kernel.invokeFunction(\n",
              "                'suggestCharts', [key], {});\n",
              "          } catch (error) {\n",
              "            console.error('Error during call to suggestCharts:', error);\n",
              "          }\n",
              "          quickchartButtonEl.classList.remove('colab-df-spinner');\n",
              "          quickchartButtonEl.classList.add('colab-df-quickchart-complete');\n",
              "        }\n",
              "        (() => {\n",
              "          let quickchartButtonEl =\n",
              "            document.querySelector('#df-5b64beae-fbd5-4b32-8e17-687b35f66fce button');\n",
              "          quickchartButtonEl.style.display =\n",
              "            google.colab.kernel.accessAllowed ? 'block' : 'none';\n",
              "        })();\n",
              "      </script>\n",
              "    </div>\n",
              "\n",
              "    </div>\n",
              "  </div>\n"
            ],
            "application/vnd.google.colaboratory.intrinsic+json": {
              "type": "dataframe",
              "summary": "{\n  \"name\": \"print(f\\\"Indeks kelas: {train_generator\",\n  \"rows\": 5,\n  \"fields\": [\n    {\n      \"column\": \"filepath\",\n      \"properties\": {\n        \"dtype\": \"string\",\n        \"num_unique_values\": 5,\n        \"samples\": [\n          \"/content/drive/MyDrive/Dataset/Dataset Sistem Presensi Wajah V1.0/Data Test/5231811002_MichaelAndrewDeHaan_01.jpg\",\n          \"/content/drive/MyDrive/Dataset/Dataset Sistem Presensi Wajah V1.0/Data Test/5221911012_Debora_09.jpg\",\n          \"/content/drive/MyDrive/Dataset/Dataset Sistem Presensi Wajah V1.0/Data Test/5221911025-Anggun-40.jpg\"\n        ],\n        \"semantic_type\": \"\",\n        \"description\": \"\"\n      }\n    },\n    {\n      \"column\": \"class\",\n      \"properties\": {\n        \"dtype\": \"string\",\n        \"num_unique_values\": 4,\n        \"samples\": [\n          \"MichaelAndrewDeHaan 01\",\n          \"Debora 09\",\n          \"Unknown Class\"\n        ],\n        \"semantic_type\": \"\",\n        \"description\": \"\"\n      }\n    }\n  ]\n}"
            }
          },
          "metadata": {}
        },
        {
          "output_type": "stream",
          "name": "stdout",
          "text": [
            "Found 1665 validated image filenames belonging to 1602 classes.\n",
            "Found 416 validated image filenames belonging to 402 classes.\n",
            "\n",
            "Jumlah kelas (mahasiswa) terdeteksi oleh generator: 1602\n",
            "Indeks kelas: {'ARI DHARMA DEVANANTA 02': 0, 'ARI DHARMA DEVANANTA 03': 1, 'ARI DHARMA DEVANANTA 05': 2, 'ARI DHARMA DEVANANTA 06': 3, 'ARI DHARMA DEVANANTA 07': 4, 'ARI DHARMA DEVANANTA 08': 5, 'ARI DHARMA DEVANANTA 09': 6, 'ARI DHARMA DEVANANTA 10': 7, 'ARI DHARMA DEVANANTA 12': 8, 'ARI DHARMA DEVANANTA 13': 9, 'ARI DHARMA DEVANANTA 15': 10, 'ARI DHARMA DEVANANTA 16': 11, 'ARI DHARMA DEVANANTA 17': 12, 'ARI DHARMA DEVANANTA 18': 13, 'ARI DHARMA DEVANANTA 19': 14, 'ARI DHARMA DEVANANTA 20': 15, 'ARI DHARMA DEVANANTA 22': 16, 'ARI DHARMA DEVANANTA 23': 17, 'ARI DHARMA DEVANANTA 25': 18, 'ARI DHARMA DEVANANTA 26': 19, 'ARI DHARMA DEVANANTA 27': 20, 'ARI DHARMA DEVANANTA 28': 21, 'ARI DHARMA DEVANANTA 29': 22, 'ARI DHARMA DEVANANTA 30': 23, 'ARI DHARMA DEVANANTA 32': 24, 'ARI DHARMA DEVANANTA 33': 25, 'ARI DHARMA DEVANANTA 35': 26, 'ARI DHARMA DEVANANTA 36': 27, 'ARI DHARMA DEVANANTA 37': 28, 'ARI DHARMA DEVANANTA 38': 29, 'ARI DHARMA DEVANANTA 39': 30, 'ARI DHARMA DEVANANTA 40': 31, 'Akhmad Nabil Saputra 03': 32, 'Akhmad Nabil Saputra 04': 33, 'Akhmad Nabil Saputra 05': 34, 'Akhmad Nabil Saputra 06': 35, 'Akhmad Nabil Saputra 07': 36, 'Akhmad Nabil Saputra 08': 37, 'Akhmad Nabil Saputra 09': 38, 'Akhmad Nabil Saputra 10': 39, 'Akhmad Nabil Saputra 11': 40, 'Akhmad Nabil Saputra 12': 41, 'Akhmad Nabil Saputra 15': 42, 'Akhmad Nabil Saputra 16': 43, 'Akhmad Nabil Saputra 17': 44, 'Akhmad Nabil Saputra 18': 45, 'Akhmad Nabil Saputra 19': 46, 'Akhmad Nabil Saputra 20': 47, 'Akhmad Nabil Saputra 21': 48, 'Akhmad Nabil Saputra 22': 49, 'Akhmad Nabil Saputra 23': 50, 'Akhmad Nabil Saputra 26': 51, 'Akhmad Nabil Saputra 27': 52, 'Akhmad Nabil Saputra 28': 53, 'Akhmad Nabil Saputra 29': 54, 'Akhmad Nabil Saputra 30': 55, 'Akhmad Nabil Saputra 31': 56, 'Akhmad Nabil Saputra 32': 57, 'Akhmad Nabil Saputra 33': 58, 'Akhmad Nabil Saputra 34': 59, 'Akhmad Nabil Saputra 35': 60, 'Akhmad Nabil Saputra 36': 61, 'Akhmad Nabil Saputra 37': 62, 'Akhmad Nabil Saputra 38': 63, 'Amalia Dwi Ramadhani 03': 64, 'Amalia Dwi Ramadhani 04': 65, 'Amalia Dwi Ramadhani 05': 66, 'Amalia Dwi Ramadhani 06': 67, 'Amalia Dwi Ramadhani 07': 68, 'Amalia Dwi Ramadhani 08': 69, 'Amalia Dwi Ramadhani 09': 70, 'Amalia Dwi Ramadhani 10': 71, 'Amalia Dwi Ramadhani 11': 72, 'Amalia Dwi Ramadhani 12': 73, 'Amalia Dwi Ramadhani 15': 74, 'Amalia Dwi Ramadhani 16': 75, 'Amalia Dwi Ramadhani 17': 76, 'Amalia Dwi Ramadhani 18': 77, 'Amalia Dwi Ramadhani 19': 78, 'Amalia Dwi Ramadhani 20': 79, 'Amalia Dwi Ramadhani 21': 80, 'Amalia Dwi Ramadhani 22': 81, 'Amalia Dwi Ramadhani 23': 82, 'Amalia Dwi Ramadhani 26': 83, 'Amalia Dwi Ramadhani 27': 84, 'Amalia Dwi Ramadhani 28': 85, 'Amalia Dwi Ramadhani 29': 86, 'Amalia Dwi Ramadhani 30': 87, 'Amalia Dwi Ramadhani 31': 88, 'Amalia Dwi Ramadhani 32': 89, 'Amalia Dwi Ramadhani 33': 90, 'Amalia Dwi Ramadhani 34': 91, 'Amalia Dwi Ramadhani 35': 92, 'Amalia Dwi Ramadhani 36': 93, 'Amalia Dwi Ramadhani 37': 94, 'Amalia Dwi Ramadhani 38': 95, 'Ameliawati 01': 96, 'Ameliawati 02': 97, 'Ameliawati 05': 98, 'Ameliawati 06': 99, 'Ameliawati 07': 100, 'Ameliawati 08': 101, 'Ameliawati 09': 102, 'Ameliawati 10': 103, 'Ameliawati 11': 104, 'Ameliawati 12': 105, 'Ameliawati 15': 106, 'Ameliawati 16': 107, 'Ameliawati 17': 108, 'Ameliawati 18': 109, 'Ameliawati 19': 110, 'Ameliawati 20': 111, 'Ameliawati 21': 112, 'Ameliawati 22': 113, 'Ameliawati 25': 114, 'Ameliawati 26': 115, 'Ameliawati 27': 116, 'Ameliawati 28': 117, 'Ameliawati 29': 118, 'Ameliawati 30': 119, 'Ameliawati 31': 120, 'Ameliawati 32': 121, 'Ameliawati 35': 122, 'Ameliawati 36': 123, 'Ameliawati 37': 124, 'Ameliawati 38': 125, 'Ameliawati 39': 126, 'Ameliawati 40': 127, 'Andini 01': 128, 'Andini 02': 129, 'Andini 05': 130, 'Andini 06': 131, 'Andini 07': 132, 'Andini 08': 133, 'Andini 09': 134, 'Andini 10': 135, 'Andini 11': 136, 'Andini 12': 137, 'Andini 15': 138, 'Andini 16': 139, 'Andini 17': 140, 'Andini 18': 141, 'Andini 19': 142, 'Andini 20': 143, 'Andini 21': 144, 'Andini 22': 145, 'Andini 25': 146, 'Andini 26': 147, 'Andini 27': 148, 'Andini 28': 149, 'Andini 29': 150, 'Andini 30': 151, 'Andini 31': 152, 'Andini 32': 153, 'Andini 35': 154, 'Andini 36': 155, 'Andini 37': 156, 'Andini 38': 157, 'Andini 39': 158, 'Andini 40': 159, 'Antonia Idan Huler 01': 160, 'Antonia Idan Huler 02': 161, 'Antonia Idan Huler 05': 162, 'Antonia Idan Huler 06': 163, 'Antonia Idan Huler 07': 164, 'Antonia Idan Huler 08': 165, 'Antonia Idan Huler 09': 166, 'Antonia Idan Huler 10': 167, 'Antonia Idan Huler 11': 168, 'Antonia Idan Huler 12': 169, 'Antonia Idan Huler 15': 170, 'Antonia Idan Huler 16': 171, 'Antonia Idan Huler 17': 172, 'Antonia Idan Huler 18': 173, 'Antonia Idan Huler 19': 174, 'Antonia Idan Huler 20': 175, 'Antonia Idan Huler 21': 176, 'Antonia Idan Huler 22': 177, 'Antonia Idan Huler 25': 178, 'Antonia Idan Huler 26': 179, 'Antonia Idan Huler 27': 180, 'Antonia Idan Huler 28': 181, 'Antonia Idan Huler 29': 182, 'Antonia Idan Huler 30': 183, 'Antonia Idan Huler 31': 184, 'Antonia Idan Huler 32': 185, 'Antonia Idan Huler 35': 186, 'Antonia Idan Huler 36': 187, 'Antonia Idan Huler 37': 188, 'Antonia Idan Huler 38': 189, 'Antonia Idan Huler 39': 190, 'Antonia Idan Huler 40': 191, 'Chronika SD23': 192, 'CindyKusumaningrum 01': 193, 'CindyKusumaningrum 02': 194, 'CindyKusumaningrum 05': 195, 'CindyKusumaningrum 06': 196, 'CindyKusumaningrum 07': 197, 'CindyKusumaningrum 08': 198, 'CindyKusumaningrum 09': 199, 'CindyKusumaningrum 10': 200, 'CindyKusumaningrum 11': 201, 'CindyKusumaningrum 12': 202, 'CindyKusumaningrum 15': 203, 'CindyKusumaningrum 16': 204, 'CindyKusumaningrum 17': 205, 'CindyKusumaningrum 18': 206, 'CindyKusumaningrum 19': 207, 'CindyKusumaningrum 20': 208, 'CindyKusumaningrum 21': 209, 'CindyKusumaningrum 22': 210, 'CindyKusumaningrum 25': 211, 'CindyKusumaningrum 26': 212, 'CindyKusumaningrum 27': 213, 'CindyKusumaningrum 28': 214, 'CindyKusumaningrum 29': 215, 'CindyKusumaningrum 30': 216, 'CindyKusumaningrum 31': 217, 'CindyKusumaningrum 32': 218, 'CindyKusumaningrum 35': 219, 'CindyKusumaningrum 36': 220, 'CindyKusumaningrum 37': 221, 'CindyKusumaningrum 38': 222, 'CindyKusumaningrum 39': 223, 'CindyKusumaningrum 40': 224, 'Daniel Granesa Kiara 03': 225, 'Daniel Granesa Kiara 04': 226, 'Daniel Granesa Kiara 05': 227, 'Daniel Granesa Kiara 06': 228, 'Daniel Granesa Kiara 07': 229, 'Daniel Granesa Kiara 08': 230, 'Daniel Granesa Kiara 09': 231, 'Daniel Granesa Kiara 10': 232, 'Daniel Granesa Kiara 11': 233, 'Daniel Granesa Kiara 12': 234, 'Daniel Granesa Kiara 15': 235, 'Daniel Granesa Kiara 16': 236, 'Daniel Granesa Kiara 17': 237, 'Daniel Granesa Kiara 18': 238, 'Daniel Granesa Kiara 19': 239, 'Daniel Granesa Kiara 20': 240, 'Daniel Granesa Kiara 21': 241, 'Daniel Granesa Kiara 22': 242, 'Daniel Granesa Kiara 23': 243, 'Daniel Granesa Kiara 26': 244, 'Daniel Granesa Kiara 27': 245, 'Daniel Granesa Kiara 28': 246, 'Daniel Granesa Kiara 29': 247, 'Daniel Granesa Kiara 30': 248, 'Daniel Granesa Kiara 31': 249, 'Daniel Granesa Kiara 32': 250, 'Daniel Granesa Kiara 33': 251, 'Daniel Granesa Kiara 34': 252, 'Daniel Granesa Kiara 35': 253, 'Daniel Granesa Kiara 36': 254, 'Daniel Granesa Kiara 37': 255, 'Daniel Granesa Kiara 38': 256, 'Debora 03': 257, 'Debora 04': 258, 'Debora 05': 259, 'Debora 06': 260, 'Debora 07': 261, 'Debora 08': 262, 'Debora 11': 263, 'Debora 12': 264, 'Debora 13': 265, 'Debora 14': 266, 'Debora 15': 267, 'Debora 16': 268, 'Debora 17': 269, 'Debora 18': 270, 'Debora 19': 271, 'Debora 20': 272, 'Debora 21': 273, 'Debora 22': 274, 'Debora 23': 275, 'Debora 26': 276, 'Debora 27': 277, 'Debora 28': 278, 'Debora 29': 279, 'Debora 30': 280, 'Debora 31': 281, 'Debora 32': 282, 'Debora 33': 283, 'Debora 34': 284, 'Debora 35': 285, 'Debora 36': 286, 'Debora 37': 287, 'Debora 38': 288, 'Deraya 02': 289, 'Deraya 03': 290, 'Deraya 05': 291, 'Deraya 06': 292, 'Deraya 07': 293, 'Deraya 08': 294, 'Deraya 09': 295, 'Deraya 10': 296, 'Deraya 12': 297, 'Deraya 13': 298, 'Deraya 15': 299, 'Deraya 16': 300, 'Deraya 17': 301, 'Deraya 18': 302, 'Deraya 19': 303, 'Deraya 20': 304, 'Deraya 22': 305, 'Deraya 23': 306, 'Deraya 25': 307, 'Deraya 26': 308, 'Deraya 27': 309, 'Deraya 28': 310, 'Deraya 29': 311, 'Deraya 30': 312, 'Deraya 32': 313, 'Deraya 33': 314, 'Deraya 35': 315, 'Deraya 36': 316, 'Deraya 37': 317, 'Deraya 38': 318, 'Deraya 39': 319, 'Deraya 40': 320, 'Desak Gde Devika Anantha Armi 02': 321, 'Desak Gde Devika Anantha Armi 03': 322, 'Desak Gde Devika Anantha Armi 05': 323, 'Desak Gde Devika Anantha Armi 06': 324, 'Desak Gde Devika Anantha Armi 07': 325, 'Desak Gde Devika Anantha Armi 08': 326, 'Desak Gde Devika Anantha Armi 09': 327, 'Desak Gde Devika Anantha Armi 10': 328, 'Desak Gde Devika Anantha Armi 12': 329, 'Desak Gde Devika Anantha Armi 13': 330, 'Desak Gde Devika Anantha Armi 15': 331, 'Desak Gde Devika Anantha Armi 16': 332, 'Desak Gde Devika Anantha Armi 17': 333, 'Desak Gde Devika Anantha Armi 18': 334, 'Desak Gde Devika Anantha Armi 19': 335, 'Desak Gde Devika Anantha Armi 20': 336, 'Desak Gde Devika Anantha Armi 22': 337, 'Desak Gde Devika Anantha Armi 23': 338, 'Desak Gde Devika Anantha Armi 25': 339, 'Desak Gde Devika Anantha Armi 26': 340, 'Desak Gde Devika Anantha Armi 27': 341, 'Desak Gde Devika Anantha Armi 28': 342, 'Desak Gde Devika Anantha Armi 29': 343, 'Desak Gde Devika Anantha Armi 30': 344, 'Desak Gde Devika Anantha Armi 32': 345, 'Desak Gde Devika Anantha Armi 33': 346, 'Desak Gde Devika Anantha Armi 35': 347, 'Desak Gde Devika Anantha Armi 36': 348, 'Desak Gde Devika Anantha Armi 37': 349, 'Desak Gde Devika Anantha Armi 38': 350, 'Desak Gde Devika Anantha Armi 39': 351, 'Desak Gde Devika Anantha Armi 40': 352, 'Dian Eka Pratiwi 03': 353, 'Dian Eka Pratiwi 04': 354, 'Dian Eka Pratiwi 05': 355, 'Dian Eka Pratiwi 06': 356, 'Dian Eka Pratiwi 07': 357, 'Dian Eka Pratiwi 08': 358, 'Dian Eka Pratiwi 09': 359, 'Dian Eka Pratiwi 10': 360, 'Dian Eka Pratiwi 11': 361, 'Dian Eka Pratiwi 12': 362, 'Dian Eka Pratiwi 13': 363, 'Dian Eka Pratiwi 14': 364, 'Dian Eka Pratiwi 16': 365, 'Dian Eka Pratiwi 17': 366, 'Dian Eka Pratiwi 18': 367, 'Dian Eka Pratiwi 19': 368, 'Dian Eka Pratiwi 21': 369, 'Dian Eka Pratiwi 22': 370, 'Dian Eka Pratiwi 23': 371, 'Dian Eka Pratiwi 24': 372, 'Dian Eka Pratiwi 25': 373, 'Dian Eka Pratiwi 26': 374, 'Dian Eka Pratiwi 27': 375, 'Dian Eka Pratiwi 28': 376, 'Dian Eka Pratiwi 29': 377, 'Dian Eka Pratiwi 32': 378, 'Dian Eka Pratiwi 33': 379, 'Dian Eka Pratiwi 34': 380, 'Dian Eka Pratiwi 35': 381, 'Dian Eka Pratiwi 36': 382, 'Dian Eka Pratiwi 37': 383, 'Dian Eka Pratiwi 38': 384, 'FIRMAN 01': 385, 'FIRMAN 02': 386, 'FIRMAN 05': 387, 'FIRMAN 06': 388, 'FIRMAN 07': 389, 'FIRMAN 08': 390, 'FIRMAN 09': 391, 'FIRMAN 10': 392, 'FIRMAN 11': 393, 'FIRMAN 12': 394, 'FIRMAN 15': 395, 'FIRMAN 16': 396, 'FIRMAN 17': 397, 'FIRMAN 18': 398, 'FIRMAN 19': 399, 'FIRMAN 20': 400, 'FIRMAN 21': 401, 'FIRMAN 22': 402, 'FIRMAN 25': 403, 'FIRMAN 26': 404, 'FIRMAN 27': 405, 'FIRMAN 28': 406, 'FIRMAN 29': 407, 'FIRMAN 30': 408, 'FIRMAN 31': 409, 'FIRMAN 32': 410, 'FIRMAN 35': 411, 'FIRMAN 36': 412, 'FIRMAN 37': 413, 'FIRMAN 38': 414, 'FIRMAN 39': 415, 'FIRMAN 40': 416, 'Fadilah Ratu Azzahra 01': 417, 'Fadilah Ratu Azzahra 02': 418, 'Fadilah Ratu Azzahra 03': 419, 'Fadilah Ratu Azzahra 06': 420, 'Fadilah Ratu Azzahra 07': 421, 'Fadilah Ratu Azzahra 08': 422, 'Fadilah Ratu Azzahra 09': 423, 'Fadilah Ratu Azzahra 10': 424, 'Fadilah Ratu Azzahra 11': 425, 'Fadilah Ratu Azzahra 12': 426, 'Fadilah Ratu Azzahra 13': 427, 'Fadilah Ratu Azzahra 16': 428, 'Fadilah Ratu Azzahra 17': 429, 'Fadilah Ratu Azzahra 18': 430, 'Fadilah Ratu Azzahra 19': 431, 'Fadilah Ratu Azzahra 20': 432, 'Fadilah Ratu Azzahra 21': 433, 'Fadilah Ratu Azzahra 22': 434, 'Fadilah Ratu Azzahra 23': 435, 'Fadilah Ratu Azzahra 26': 436, 'Fadilah Ratu Azzahra 27': 437, 'Fadilah Ratu Azzahra 28': 438, 'Fadilah Ratu Azzahra 29': 439, 'Fadilah Ratu Azzahra 30': 440, 'Fadilah Ratu Azzahra 31': 441, 'Fadilah Ratu Azzahra 32': 442, 'Fadilah Ratu Azzahra 33': 443, 'Fadilah Ratu Azzahra 36': 444, 'Fadilah Ratu Azzahra 37': 445, 'Fadilah Ratu Azzahra 38': 446, 'Fadilah Ratu Azzahra 39': 447, 'Fadilah Ratu Azzahra 40': 448, 'Faren 02': 449, 'Faren 03': 450, 'Faren 05': 451, 'Faren 06': 452, 'Faren 07': 453, 'Faren 08': 454, 'Faren 09': 455, 'Faren 10': 456, 'Faren 12': 457, 'Faren 13': 458, 'Faren 15': 459, 'Faren 16': 460, 'Faren 17': 461, 'Faren 18': 462, 'Faren 19': 463, 'Faren 20': 464, 'Faren 22': 465, 'Faren 23': 466, 'Faren 25': 467, 'Faren 26': 468, 'Faren 27': 469, 'Faren 28': 470, 'Faren 29': 471, 'Faren 30': 472, 'Faren 32': 473, 'Faren 33': 474, 'Faren 35': 475, 'Faren 36': 476, 'Faren 37': 477, 'Faren 38': 478, 'Faren 39': 479, 'Faren 40': 480, 'Farma 01': 481, 'Farma 04': 482, 'Farma 05': 483, 'Farma 06': 484, 'Farma 07': 485, 'Farma 08': 486, 'Farma 09': 487, 'Farma 10': 488, 'Farma 11': 489, 'Farma 14': 490, 'Farma 15': 491, 'Farma 16': 492, 'Farma 17': 493, 'Farma 18': 494, 'Farma 19': 495, 'Farma 20': 496, 'Farma 21': 497, 'Farma 24': 498, 'Farma 25': 499, 'Farma 26': 500, 'Farma 27': 501, 'Farma 28': 502, 'Farma 29': 503, 'Farma 30': 504, 'Farma 31': 505, 'Farma 34': 506, 'Farma 35': 507, 'Farma 36': 508, 'Farma 37': 509, 'Farma 38': 510, 'Farma 39': 511, 'Farma 40': 512, 'Giffari Riyanda Pradithya 1': 513, 'Giffari Riyanda Pradithya 10': 514, 'Giffari Riyanda Pradithya 11': 515, 'Giffari Riyanda Pradithya 14': 516, 'Giffari Riyanda Pradithya 15': 517, 'Giffari Riyanda Pradithya 16': 518, 'Giffari Riyanda Pradithya 17': 519, 'Giffari Riyanda Pradithya 18': 520, 'Giffari Riyanda Pradithya 19': 521, 'Giffari Riyanda Pradithya 20': 522, 'Giffari Riyanda Pradithya 21': 523, 'Giffari Riyanda Pradithya 24': 524, 'Giffari Riyanda Pradithya 25': 525, 'Giffari Riyanda Pradithya 26': 526, 'Giffari Riyanda Pradithya 27': 527, 'Giffari Riyanda Pradithya 28': 528, 'Giffari Riyanda Pradithya 29': 529, 'Giffari Riyanda Pradithya 30': 530, 'Giffari Riyanda Pradithya 31': 531, 'Giffari Riyanda Pradithya 34': 532, 'Giffari Riyanda Pradithya 35': 533, 'Giffari Riyanda Pradithya 36': 534, 'Giffari Riyanda Pradithya 37': 535, 'Giffari Riyanda Pradithya 38': 536, 'Giffari Riyanda Pradithya 39': 537, 'Giffari Riyanda Pradithya 4': 538, 'Giffari Riyanda Pradithya 40': 539, 'Giffari Riyanda Pradithya 5': 540, 'Giffari Riyanda Pradithya 6': 541, 'Giffari Riyanda Pradithya 7': 542, 'Giffari Riyanda Pradithya 8': 543, 'Giffari Riyanda Pradithya 9': 544, 'Glory Valentio Duska Putra 01': 545, 'Glory Valentio Duska Putra 02': 546, 'Glory Valentio Duska Putra 05': 547, 'Glory Valentio Duska Putra 06': 548, 'Glory Valentio Duska Putra 07': 549, 'Glory Valentio Duska Putra 08': 550, 'Glory Valentio Duska Putra 09': 551, 'Glory Valentio Duska Putra 10': 552, 'Glory Valentio Duska Putra 11': 553, 'Glory Valentio Duska Putra 12': 554, 'Glory Valentio Duska Putra 15': 555, 'Glory Valentio Duska Putra 16': 556, 'Glory Valentio Duska Putra 17': 557, 'Glory Valentio Duska Putra 18': 558, 'Glory Valentio Duska Putra 19': 559, 'Glory Valentio Duska Putra 20': 560, 'Glory Valentio Duska Putra 21': 561, 'Glory Valentio Duska Putra 22': 562, 'Glory Valentio Duska Putra 25': 563, 'Glory Valentio Duska Putra 26': 564, 'Glory Valentio Duska Putra 27': 565, 'Glory Valentio Duska Putra 28': 566, 'Glory Valentio Duska Putra 29': 567, 'Glory Valentio Duska Putra 30': 568, 'Glory Valentio Duska Putra 31': 569, 'Glory Valentio Duska Putra 32': 570, 'Glory Valentio Duska Putra 35': 571, 'Glory Valentio Duska Putra 36': 572, 'Glory Valentio Duska Putra 37': 573, 'Glory Valentio Duska Putra 38': 574, 'Glory Valentio Duska Putra 39': 575, 'Glory Valentio Duska Putra 40': 576, 'Hamdanu Fahmi Utomo 03': 577, 'Hamdanu Fahmi Utomo 04': 578, 'Hamdanu Fahmi Utomo 05': 579, 'Hamdanu Fahmi Utomo 06': 580, 'Hamdanu Fahmi Utomo 07': 581, 'Hamdanu Fahmi Utomo 08': 582, 'Hamdanu Fahmi Utomo 09': 583, 'Hamdanu Fahmi Utomo 10': 584, 'Hamdanu Fahmi Utomo 11': 585, 'Hamdanu Fahmi Utomo 12': 586, 'Hamdanu Fahmi Utomo 15': 587, 'Hamdanu Fahmi Utomo 16': 588, 'Hamdanu Fahmi Utomo 17': 589, 'Hamdanu Fahmi Utomo 18': 590, 'Hamdanu Fahmi Utomo 19': 591, 'Hamdanu Fahmi Utomo 20': 592, 'Hamdanu Fahmi Utomo 21': 593, 'Hamdanu Fahmi Utomo 22': 594, 'Hamdanu Fahmi Utomo 23': 595, 'Hamdanu Fahmi Utomo 26': 596, 'Hamdanu Fahmi Utomo 27': 597, 'Hamdanu Fahmi Utomo 28': 598, 'Hamdanu Fahmi Utomo 29': 599, 'Hamdanu Fahmi Utomo 30': 600, 'Hamdanu Fahmi Utomo 31': 601, 'Hamdanu Fahmi Utomo 32': 602, 'Hamdanu Fahmi Utomo 33': 603, 'Hamdanu Fahmi Utomo 34': 604, 'Hamdanu Fahmi Utomo 35': 605, 'Hamdanu Fahmi Utomo 36': 606, 'Hamdanu Fahmi Utomo 37': 607, 'Hamdanu Fahmi Utomo 38': 608, 'Ica Nurcahya 02': 609, 'Ica Nurcahya 03': 610, 'Ica Nurcahya 05': 611, 'Ica Nurcahya 06': 612, 'Ica Nurcahya 07': 613, 'Ica Nurcahya 08': 614, 'Ica Nurcahya 09': 615, 'Ica Nurcahya 10': 616, 'Ica Nurcahya 12': 617, 'Ica Nurcahya 13': 618, 'Ica Nurcahya 15': 619, 'Ica Nurcahya 16': 620, 'Ica Nurcahya 17': 621, 'Ica Nurcahya 18': 622, 'Ica Nurcahya 19': 623, 'Ica Nurcahya 20': 624, 'Ica Nurcahya 22': 625, 'Ica Nurcahya 23': 626, 'Ica Nurcahya 25': 627, 'Ica Nurcahya 26': 628, 'Ica Nurcahya 27': 629, 'Ica Nurcahya 28': 630, 'Ica Nurcahya 29': 631, 'Ica Nurcahya 30': 632, 'Ica Nurcahya 32': 633, 'Ica Nurcahya 33': 634, 'Ica Nurcahya 35': 635, 'Ica Nurcahya 36': 636, 'Ica Nurcahya 37': 637, 'Ica Nurcahya 38': 638, 'Ica Nurcahya 39': 639, 'Ica Nurcahya 40': 640, 'Jeny Amelindrika Putri 01': 641, 'Jeny Amelindrika Putri 02': 642, 'Jeny Amelindrika Putri 05': 643, 'Jeny Amelindrika Putri 06': 644, 'Jeny Amelindrika Putri 07': 645, 'Jeny Amelindrika Putri 08': 646, 'Jeny Amelindrika Putri 09': 647, 'Jeny Amelindrika Putri 10': 648, 'Jeny Amelindrika Putri 11': 649, 'Jeny Amelindrika Putri 12': 650, 'Jeny Amelindrika Putri 15': 651, 'Jeny Amelindrika Putri 16': 652, 'Jeny Amelindrika Putri 17': 653, 'Jeny Amelindrika Putri 18': 654, 'Jeny Amelindrika Putri 19': 655, 'Jeny Amelindrika Putri 20': 656, 'Jeny Amelindrika Putri 21': 657, 'Jeny Amelindrika Putri 22': 658, 'Jeny Amelindrika Putri 25': 659, 'Jeny Amelindrika Putri 26': 660, 'Jeny Amelindrika Putri 27': 661, 'Jeny Amelindrika Putri 28': 662, 'Jeny Amelindrika Putri 29': 663, 'Jeny Amelindrika Putri 30': 664, 'Jeny Amelindrika Putri 31': 665, 'Jeny Amelindrika Putri 32': 666, 'Jeny Amelindrika Putri 35': 667, 'Jeny Amelindrika Putri 36': 668, 'Jeny Amelindrika Putri 37': 669, 'Jeny Amelindrika Putri 38': 670, 'Jeny Amelindrika Putri 39': 671, 'Jeny Amelindrika Putri 40': 672, 'Kesya 1': 673, 'Kesya 10': 674, 'Kesya 11': 675, 'Kesya 12': 676, 'Kesya 13': 677, 'Kesya 16': 678, 'Kesya 17': 679, 'Kesya 18': 680, 'Kesya 19': 681, 'Kesya 2': 682, 'Kesya 20': 683, 'Kesya 21': 684, 'Kesya 22': 685, 'Kesya 23': 686, 'Kesya 26': 687, 'Kesya 27': 688, 'Kesya 28': 689, 'Kesya 29': 690, 'Kesya 3': 691, 'Kesya 30': 692, 'Kesya 31': 693, 'Kesya 32': 694, 'Kesya 33': 695, 'Kesya 36': 696, 'Kesya 37': 697, 'Kesya 38': 698, 'Kesya 39': 699, 'Kesya 40': 700, 'Kesya 6': 701, 'Kesya 7': 702, 'Kesya 8': 703, 'Kesya 9': 704, 'KusumaRatih 03': 705, 'KusumaRatih 04': 706, 'KusumaRatih 05': 707, 'KusumaRatih 06': 708, 'KusumaRatih 07': 709, 'KusumaRatih 08': 710, 'KusumaRatih 09': 711, 'KusumaRatih 10': 712, 'KusumaRatih 11': 713, 'KusumaRatih 12': 714, 'KusumaRatih 13': 715, 'KusumaRatih 14': 716, 'KusumaRatih 16': 717, 'KusumaRatih 17': 718, 'KusumaRatih 18': 719, 'KusumaRatih 19': 720, 'KusumaRatih 21': 721, 'KusumaRatih 22': 722, 'KusumaRatih 23': 723, 'KusumaRatih 24': 724, 'KusumaRatih 25': 725, 'KusumaRatih 26': 726, 'KusumaRatih 27': 727, 'KusumaRatih 28': 728, 'KusumaRatih 29': 729, 'KusumaRatih 32': 730, 'KusumaRatih 33': 731, 'KusumaRatih 34': 732, 'KusumaRatih 35': 733, 'KusumaRatih 36': 734, 'KusumaRatih 37': 735, 'KusumaRatih 38': 736, 'Lathif Ramadhan 01': 737, 'Lathif Ramadhan 02': 738, 'Lathif Ramadhan 05': 739, 'Lathif Ramadhan 06': 740, 'Lathif Ramadhan 07': 741, 'Lathif Ramadhan 08': 742, 'Lathif Ramadhan 09': 743, 'Lathif Ramadhan 10': 744, 'Lathif Ramadhan 11': 745, 'Lathif Ramadhan 12': 746, 'Lathif Ramadhan 15': 747, 'Lathif Ramadhan 16': 748, 'Lathif Ramadhan 17': 749, 'Lathif Ramadhan 18': 750, 'Lathif Ramadhan 19': 751, 'Lathif Ramadhan 20': 752, 'Lathif Ramadhan 21': 753, 'Lathif Ramadhan 22': 754, 'Lathif Ramadhan 25': 755, 'Lathif Ramadhan 26': 756, 'Lathif Ramadhan 27': 757, 'Lathif Ramadhan 28': 758, 'Lathif Ramadhan 29': 759, 'Lathif Ramadhan 30': 760, 'Lathif Ramadhan 31': 761, 'Lathif Ramadhan 32': 762, 'Lathif Ramadhan 35': 763, 'Lathif Ramadhan 36': 764, 'Lathif Ramadhan 37': 765, 'Lathif Ramadhan 38': 766, 'Lathif Ramadhan 39': 767, 'Lathif Ramadhan 40': 768, 'MEYLAN ARYANI 010': 769, 'MEYLAN ARYANI 011': 770, 'MEYLAN ARYANI 012': 771, 'MEYLAN ARYANI 013': 772, 'MEYLAN ARYANI 014': 773, 'MEYLAN ARYANI 016': 774, 'MEYLAN ARYANI 017': 775, 'MEYLAN ARYANI 018': 776, 'MEYLAN ARYANI 019': 777, 'MEYLAN ARYANI 021': 778, 'MEYLAN ARYANI 022': 779, 'MEYLAN ARYANI 023': 780, 'MEYLAN ARYANI 024': 781, 'MEYLAN ARYANI 025': 782, 'MEYLAN ARYANI 026': 783, 'MEYLAN ARYANI 027': 784, 'MEYLAN ARYANI 028': 785, 'MEYLAN ARYANI 029': 786, 'MEYLAN ARYANI 03': 787, 'MEYLAN ARYANI 032': 788, 'MEYLAN ARYANI 033': 789, 'MEYLAN ARYANI 034': 790, 'MEYLAN ARYANI 035': 791, 'MEYLAN ARYANI 036': 792, 'MEYLAN ARYANI 037': 793, 'MEYLAN ARYANI 038': 794, 'MEYLAN ARYANI 04': 795, 'MEYLAN ARYANI 05': 796, 'MEYLAN ARYANI 06': 797, 'MEYLAN ARYANI 07': 798, 'MEYLAN ARYANI 08': 799, 'MEYLAN ARYANI 09': 800, \"Ma'ruf Ndaru Sasono 01\": 801, \"Ma'ruf Ndaru Sasono 02\": 802, \"Ma'ruf Ndaru Sasono 05\": 803, \"Ma'ruf Ndaru Sasono 06\": 804, \"Ma'ruf Ndaru Sasono 07\": 805, \"Ma'ruf Ndaru Sasono 08\": 806, \"Ma'ruf Ndaru Sasono 09\": 807, \"Ma'ruf Ndaru Sasono 10\": 808, \"Ma'ruf Ndaru Sasono 11\": 809, \"Ma'ruf Ndaru Sasono 12\": 810, \"Ma'ruf Ndaru Sasono 15\": 811, \"Ma'ruf Ndaru Sasono 16\": 812, \"Ma'ruf Ndaru Sasono 17\": 813, \"Ma'ruf Ndaru Sasono 18\": 814, \"Ma'ruf Ndaru Sasono 19\": 815, \"Ma'ruf Ndaru Sasono 20\": 816, \"Ma'ruf Ndaru Sasono 21\": 817, \"Ma'ruf Ndaru Sasono 22\": 818, \"Ma'ruf Ndaru Sasono 25\": 819, \"Ma'ruf Ndaru Sasono 26\": 820, \"Ma'ruf Ndaru Sasono 27\": 821, \"Ma'ruf Ndaru Sasono 28\": 822, \"Ma'ruf Ndaru Sasono 29\": 823, \"Ma'ruf Ndaru Sasono 30\": 824, \"Ma'ruf Ndaru Sasono 31\": 825, \"Ma'ruf Ndaru Sasono 32\": 826, \"Ma'ruf Ndaru Sasono 35\": 827, \"Ma'ruf Ndaru Sasono 36\": 828, \"Ma'ruf Ndaru Sasono 37\": 829, \"Ma'ruf Ndaru Sasono 38\": 830, \"Ma'ruf Ndaru Sasono 39\": 831, \"Ma'ruf Ndaru Sasono 40\": 832, 'Maria Febronia Boa 01': 833, 'Maria Febronia Boa 02': 834, 'Maria Febronia Boa 03': 835, 'Maria Febronia Boa 04': 836, 'Maria Febronia Boa 07': 837, 'Maria Febronia Boa 08': 838, 'Maria Febronia Boa 09': 839, 'Maria Febronia Boa 10': 840, 'Maria Febronia Boa 11': 841, 'Maria Febronia Boa 12': 842, 'Maria Febronia Boa 13': 843, 'Maria Febronia Boa 14': 844, 'Maria Febronia Boa 17': 845, 'Maria Febronia Boa 18': 846, 'Maria Febronia Boa 19': 847, 'Maria Febronia Boa 20': 848, 'Maria Febronia Boa 21': 849, 'Maria Febronia Boa 22': 850, 'Maria Febronia Boa 23': 851, 'Maria Febronia Boa 24': 852, 'Maria Febronia Boa 27': 853, 'Maria Febronia Boa 28': 854, 'Maria Febronia Boa 29': 855, 'Maria Febronia Boa 30': 856, 'Maria Febronia Boa 31': 857, 'Maria Febronia Boa 32': 858, 'Maria Febronia Boa 33': 859, 'Maria Febronia Boa 34': 860, 'Maria Febronia Boa 37': 861, 'Maria Febronia Boa 38': 862, 'Maria Febronia Boa 39': 863, 'Maria Febronia Boa 40': 864, 'Maulana Ahmad Muhaimin 1': 865, 'Maulana Ahmad Muhaimin 10': 866, 'Maulana Ahmad Muhaimin 11': 867, 'Maulana Ahmad Muhaimin 12': 868, 'Maulana Ahmad Muhaimin 13': 869, 'Maulana Ahmad Muhaimin 16': 870, 'Maulana Ahmad Muhaimin 17': 871, 'Maulana Ahmad Muhaimin 18': 872, 'Maulana Ahmad Muhaimin 19': 873, 'Maulana Ahmad Muhaimin 2': 874, 'Maulana Ahmad Muhaimin 20': 875, 'Maulana Ahmad Muhaimin 21': 876, 'Maulana Ahmad Muhaimin 22': 877, 'Maulana Ahmad Muhaimin 23': 878, 'Maulana Ahmad Muhaimin 26': 879, 'Maulana Ahmad Muhaimin 27': 880, 'Maulana Ahmad Muhaimin 28': 881, 'Maulana Ahmad Muhaimin 29': 882, 'Maulana Ahmad Muhaimin 3': 883, 'Maulana Ahmad Muhaimin 30': 884, 'Maulana Ahmad Muhaimin 31': 885, 'Maulana Ahmad Muhaimin 32': 886, 'Maulana Ahmad Muhaimin 33': 887, 'Maulana Ahmad Muhaimin 36': 888, 'Maulana Ahmad Muhaimin 37': 889, 'Maulana Ahmad Muhaimin 38': 890, 'Maulana Ahmad Muhaimin 39': 891, 'Maulana Ahmad Muhaimin 40': 892, 'Maulana Ahmad Muhaimin 6': 893, 'Maulana Ahmad Muhaimin 7': 894, 'Maulana Ahmad Muhaimin 8': 895, 'Maulana Ahmad Muhaimin 9': 896, 'MichaelANdrewDeHaan 22': 897, 'MichaelAndrewDeHaan 03': 898, 'MichaelAndrewDeHaan 04': 899, 'MichaelAndrewDeHaan 05': 900, 'MichaelAndrewDeHaan 06': 901, 'MichaelAndrewDeHaan 07': 902, 'MichaelAndrewDeHaan 08': 903, 'MichaelAndrewDeHaan 11': 904, 'MichaelAndrewDeHaan 12': 905, 'MichaelAndrewDeHaan 13': 906, 'MichaelAndrewDeHaan 14': 907, 'MichaelAndrewDeHaan 15': 908, 'MichaelAndrewDeHaan 16': 909, 'MichaelAndrewDeHaan 17': 910, 'MichaelAndrewDeHaan 18': 911, 'MichaelAndrewDeHaan 19': 912, 'MichaelAndrewDeHaan 20': 913, 'MichaelAndrewDeHaan 21': 914, 'MichaelAndrewDeHaan 23': 915, 'MichaelAndrewDeHaan 26': 916, 'MichaelAndrewDeHaan 27': 917, 'MichaelAndrewDeHaan 28': 918, 'MichaelAndrewDeHaan 29': 919, 'MichaelAndrewDeHaan 30': 920, 'MichaelAndrewDeHaan 31': 921, 'MichaelAndrewDeHaan 32': 922, 'MichaelAndrewDeHaan 33': 923, 'MichaelAndrewDeHaan 34': 924, 'MichaelAndrewDeHaan 35': 925, 'MichaelAndrewDeHaan 36': 926, 'MichaelAndrewDeHaan 37': 927, 'MichaelAndrewDeHaan 38': 928, 'Muhammad Ibra Ramadhon 01': 929, 'Muhammad Ibra Ramadhon 04': 930, 'Muhammad Ibra Ramadhon 05': 931, 'Muhammad Ibra Ramadhon 06': 932, 'Muhammad Ibra Ramadhon 07': 933, 'Muhammad Ibra Ramadhon 08': 934, 'Muhammad Ibra Ramadhon 09': 935, 'Muhammad Ibra Ramadhon 10': 936, 'Muhammad Ibra Ramadhon 11': 937, 'Muhammad Ibra Ramadhon 14': 938, 'Muhammad Ibra Ramadhon 15': 939, 'Muhammad Ibra Ramadhon 16': 940, 'Muhammad Ibra Ramadhon 17': 941, 'Muhammad Ibra Ramadhon 18': 942, 'Muhammad Ibra Ramadhon 19': 943, 'Muhammad Ibra Ramadhon 20': 944, 'Muhammad Ibra Ramadhon 21': 945, 'Muhammad Ibra Ramadhon 24': 946, 'Muhammad Ibra Ramadhon 25': 947, 'Muhammad Ibra Ramadhon 26': 948, 'Muhammad Ibra Ramadhon 27': 949, 'Muhammad Ibra Ramadhon 28': 950, 'Muhammad Ibra Ramadhon 29': 951, 'Muhammad Ibra Ramadhon 30': 952, 'Muhammad Ibra Ramadhon 31': 953, 'Muhammad Ibra Ramadhon 34': 954, 'Muhammad Ibra Ramadhon 35': 955, 'Muhammad Ibra Ramadhon 36': 956, 'Muhammad Ibra Ramadhon 37': 957, 'Muhammad Ibra Ramadhon 38': 958, 'Muhammad Ibra Ramadhon 39': 959, 'Muhammad Ibra Ramadhon 40': 960, 'NASHA SHINTA A.B.P 1': 961, 'NASHA SHINTA A.B.P 10': 962, 'NASHA SHINTA A.B.P 11': 963, 'NASHA SHINTA A.B.P 12': 964, 'NASHA SHINTA A.B.P 15': 965, 'NASHA SHINTA A.B.P 16': 966, 'NASHA SHINTA A.B.P 17': 967, 'NASHA SHINTA A.B.P 18': 968, 'NASHA SHINTA A.B.P 19': 969, 'NASHA SHINTA A.B.P 2': 970, 'NASHA SHINTA A.B.P 20': 971, 'NASHA SHINTA A.B.P 21': 972, 'NASHA SHINTA A.B.P 22': 973, 'NASHA SHINTA A.B.P 25': 974, 'NASHA SHINTA A.B.P 26': 975, 'NASHA SHINTA A.B.P 27': 976, 'NASHA SHINTA A.B.P 28': 977, 'NASHA SHINTA A.B.P 29': 978, 'NASHA SHINTA A.B.P 30': 979, 'NASHA SHINTA A.B.P 31': 980, 'NASHA SHINTA A.B.P 32': 981, 'NASHA SHINTA A.B.P 35': 982, 'NASHA SHINTA A.B.P 36': 983, 'NASHA SHINTA A.B.P 37': 984, 'NASHA SHINTA A.B.P 38': 985, 'NASHA SHINTA A.B.P 39': 986, 'NASHA SHINTA A.B.P 40': 987, 'NASHA SHINTA A.B.P 5': 988, 'NASHA SHINTA A.B.P 6': 989, 'NASHA SHINTA A.B.P 7': 990, 'NASHA SHINTA A.B.P 8': 991, 'NASHA SHINTA A.B.P 9': 992, 'Naufal 01': 993, 'Naufal 02': 994, 'Naufal 03': 995, 'Naufal 04': 996, 'Naufal 07': 997, 'Naufal 08': 998, 'Naufal 09': 999, 'Naufal 10': 1000, 'Naufal 11': 1001, 'Naufal 12': 1002, 'Naufal 13': 1003, 'Naufal 14': 1004, 'Naufal 17': 1005, 'Naufal 18': 1006, 'Naufal 19': 1007, 'Naufal 20': 1008, 'Naufal 21': 1009, 'Naufal 22': 1010, 'Naufal 23': 1011, 'Naufal 24': 1012, 'Naufal 27': 1013, 'Naufal 28': 1014, 'Naufal 29': 1015, 'Naufal 30': 1016, 'Naufal 31': 1017, 'Naufal 32': 1018, 'Naufal 33': 1019, 'Naufal 34': 1020, 'Naufal 37': 1021, 'Naufal 38': 1022, 'Naufal 39': 1023, 'Naufal 40': 1024, 'Nirmala Fitri Margitaya 01': 1025, 'Nirmala Fitri Margitaya 02': 1026, 'Nirmala Fitri Margitaya 05': 1027, 'Nirmala Fitri Margitaya 06': 1028, 'Nirmala Fitri Margitaya 07': 1029, 'Nirmala Fitri Margitaya 08': 1030, 'Nirmala Fitri Margitaya 09': 1031, 'Nirmala Fitri Margitaya 10': 1032, 'Nirmala Fitri Margitaya 11': 1033, 'Nirmala Fitri Margitaya 12': 1034, 'Nirmala Fitri Margitaya 15': 1035, 'Nirmala Fitri Margitaya 16': 1036, 'Nirmala Fitri Margitaya 17': 1037, 'Nirmala Fitri Margitaya 18': 1038, 'Nirmala Fitri Margitaya 19': 1039, 'Nirmala Fitri Margitaya 20': 1040, 'Nirmala Fitri Margitaya 21': 1041, 'Nirmala Fitri Margitaya 22': 1042, 'Nirmala Fitri Margitaya 25': 1043, 'Nirmala Fitri Margitaya 26': 1044, 'Nirmala Fitri Margitaya 27': 1045, 'Nirmala Fitri Margitaya 28': 1046, 'Nirmala Fitri Margitaya 29': 1047, 'Nirmala Fitri Margitaya 30': 1048, 'Nirmala Fitri Margitaya 31': 1049, 'Nirmala Fitri Margitaya 32': 1050, 'Nirmala Fitri Margitaya 35': 1051, 'Nirmala Fitri Margitaya 36': 1052, 'Nirmala Fitri Margitaya 37': 1053, 'Nirmala Fitri Margitaya 38': 1054, 'Nirmala Fitri Margitaya 39': 1055, 'Nirmala Fitri Margitaya 40': 1056, 'Novera 01': 1057, 'Novera 02': 1058, 'Novera 03': 1059, 'Novera 04': 1060, 'Novera 07': 1061, 'Novera 08': 1062, 'Novera 09': 1063, 'Novera 10': 1064, 'Novera 11': 1065, 'Novera 12': 1066, 'Novera 13': 1067, 'Novera 14': 1068, 'Novera 17': 1069, 'Novera 18': 1070, 'Novera 19': 1071, 'Novera 20': 1072, 'Novera 21': 1073, 'Novera 22': 1074, 'Novera 23': 1075, 'Novera 24': 1076, 'Novera 27': 1077, 'Novera 28': 1078, 'Novera 29': 1079, 'Novera 30': 1080, 'Novera 31': 1081, 'Novera 32': 1082, 'Novera 33': 1083, 'Novera 34': 1084, 'Novera 37': 1085, 'Novera 38': 1086, 'Novera 39': 1087, 'Novera 40': 1088, 'Otniel Chresto Purwandi 10': 1089, 'Otniel Chresto Purwandi 11': 1090, 'Otniel Chresto Purwandi 12': 1091, 'Otniel Chresto Purwandi 15': 1092, 'Otniel Chresto Purwandi 16': 1093, 'Otniel Chresto Purwandi 17': 1094, 'Otniel Chresto Purwandi 18': 1095, 'Otniel Chresto Purwandi 19': 1096, 'Otniel Chresto Purwandi 20': 1097, 'Otniel Chresto Purwandi 21': 1098, 'Otniel Chresto Purwandi 22': 1099, 'Otniel Chresto Purwandi 23': 1100, 'Otniel Chresto Purwandi 26': 1101, 'Otniel Chresto Purwandi 27': 1102, 'Otniel Chresto Purwandi 28': 1103, 'Otniel Chresto Purwandi 29': 1104, 'Otniel Chresto Purwandi 3': 1105, 'Otniel Chresto Purwandi 30': 1106, 'Otniel Chresto Purwandi 31': 1107, 'Otniel Chresto Purwandi 32': 1108, 'Otniel Chresto Purwandi 33': 1109, 'Otniel Chresto Purwandi 34': 1110, 'Otniel Chresto Purwandi 35': 1111, 'Otniel Chresto Purwandi 36': 1112, 'Otniel Chresto Purwandi 37': 1113, 'Otniel Chresto Purwandi 38': 1114, 'Otniel Chresto Purwandi 4': 1115, 'Otniel Chresto Purwandi 5': 1116, 'Otniel Chresto Purwandi 6': 1117, 'Otniel Chresto Purwandi 7': 1118, 'Otniel Chresto Purwandi 8': 1119, 'Otniel Chresto Purwandi 9': 1120, 'RAFI AUFA MIRZA 01': 1121, 'RAFI AUFA MIRZA 02': 1122, 'RAFI AUFA MIRZA 05': 1123, 'RAFI AUFA MIRZA 06': 1124, 'RAFI AUFA MIRZA 07': 1125, 'RAFI AUFA MIRZA 08': 1126, 'RAFI AUFA MIRZA 09': 1127, 'RAFI AUFA MIRZA 10': 1128, 'RAFI AUFA MIRZA 11': 1129, 'RAFI AUFA MIRZA 12': 1130, 'RAFI AUFA MIRZA 15': 1131, 'RAFI AUFA MIRZA 16': 1132, 'RAFI AUFA MIRZA 17': 1133, 'RAFI AUFA MIRZA 18': 1134, 'RAFI AUFA MIRZA 19': 1135, 'RAFI AUFA MIRZA 20': 1136, 'RAFI AUFA MIRZA 21': 1137, 'RAFI AUFA MIRZA 22': 1138, 'RAFI AUFA MIRZA 25': 1139, 'RAFI AUFA MIRZA 26': 1140, 'RAFI AUFA MIRZA 27': 1141, 'RAFI AUFA MIRZA 28': 1142, 'RAFI AUFA MIRZA 29': 1143, 'RAFI AUFA MIRZA 30': 1144, 'RAFI AUFA MIRZA 31': 1145, 'RAFI AUFA MIRZA 32': 1146, 'RAFI AUFA MIRZA 35': 1147, 'RAFI AUFA MIRZA 36': 1148, 'RAFI AUFA MIRZA 37': 1149, 'RAFI AUFA MIRZA 38': 1150, 'RAFI AUFA MIRZA 39': 1151, 'RAFI AUFA MIRZA 40': 1152, 'REVA SEBRINA SALSABILA 1': 1153, 'REVA SEBRINA SALSABILA 10': 1154, 'REVA SEBRINA SALSABILA 11': 1155, 'REVA SEBRINA SALSABILA 12': 1156, 'REVA SEBRINA SALSABILA 15': 1157, 'REVA SEBRINA SALSABILA 16': 1158, 'REVA SEBRINA SALSABILA 17': 1159, 'REVA SEBRINA SALSABILA 18': 1160, 'REVA SEBRINA SALSABILA 19': 1161, 'REVA SEBRINA SALSABILA 2': 1162, 'REVA SEBRINA SALSABILA 20': 1163, 'REVA SEBRINA SALSABILA 21': 1164, 'REVA SEBRINA SALSABILA 22': 1165, 'REVA SEBRINA SALSABILA 25': 1166, 'REVA SEBRINA SALSABILA 26': 1167, 'REVA SEBRINA SALSABILA 27': 1168, 'REVA SEBRINA SALSABILA 28': 1169, 'REVA SEBRINA SALSABILA 29': 1170, 'REVA SEBRINA SALSABILA 30': 1171, 'REVA SEBRINA SALSABILA 31': 1172, 'REVA SEBRINA SALSABILA 32': 1173, 'REVA SEBRINA SALSABILA 35': 1174, 'REVA SEBRINA SALSABILA 36': 1175, 'REVA SEBRINA SALSABILA 37': 1176, 'REVA SEBRINA SALSABILA 38': 1177, 'REVA SEBRINA SALSABILA 39': 1178, 'REVA SEBRINA SALSABILA 40': 1179, 'REVA SEBRINA SALSABILA 5': 1180, 'REVA SEBRINA SALSABILA 6': 1181, 'REVA SEBRINA SALSABILA 7': 1182, 'REVA SEBRINA SALSABILA 8': 1183, 'REVA SEBRINA SALSABILA 9': 1184, 'Rahma Fieka Januarni 1': 1185, 'Rahma Fieka Januarni 10': 1186, 'Rahma Fieka Januarni 11': 1187, 'Rahma Fieka Januarni 12': 1188, 'Rahma Fieka Januarni 13': 1189, 'Rahma Fieka Januarni 14': 1190, 'Rahma Fieka Januarni 17': 1191, 'Rahma Fieka Januarni 18': 1192, 'Rahma Fieka Januarni 19': 1193, 'Rahma Fieka Januarni 2': 1194, 'Rahma Fieka Januarni 20': 1195, 'Rahma Fieka Januarni 21': 1196, 'Rahma Fieka Januarni 22': 1197, 'Rahma Fieka Januarni 23': 1198, 'Rahma Fieka Januarni 24': 1199, 'Rahma Fieka Januarni 27': 1200, 'Rahma Fieka Januarni 28': 1201, 'Rahma Fieka Januarni 29': 1202, 'Rahma Fieka Januarni 3': 1203, 'Rahma Fieka Januarni 30': 1204, 'Rahma Fieka Januarni 31': 1205, 'Rahma Fieka Januarni 32': 1206, 'Rahma Fieka Januarni 33': 1207, 'Rahma Fieka Januarni 34': 1208, 'Rahma Fieka Januarni 37': 1209, 'Rahma Fieka Januarni 38': 1210, 'Rahma Fieka Januarni 39': 1211, 'Rahma Fieka Januarni 4': 1212, 'Rahma Fieka Januarni 40': 1213, 'Rahma Fieka Januarni 7': 1214, 'Rahma Fieka Januarni 8': 1215, 'Rahma Fieka Januarni 9': 1216, 'Rama Panji Nararendra Cahaya 01': 1217, 'Rama Panji Nararendra Cahaya 02': 1218, 'Rama Panji Nararendra Cahaya 05': 1219, 'Rama Panji Nararendra Cahaya 06': 1220, 'Rama Panji Nararendra Cahaya 07': 1221, 'Rama Panji Nararendra Cahaya 08': 1222, 'Rama Panji Nararendra Cahaya 09': 1223, 'Rama Panji Nararendra Cahaya 10': 1224, 'Rama Panji Nararendra Cahaya 11': 1225, 'Rama Panji Nararendra Cahaya 12': 1226, 'Rama Panji Nararendra Cahaya 15': 1227, 'Rama Panji Nararendra Cahaya 16': 1228, 'Rama Panji Nararendra Cahaya 17': 1229, 'Rama Panji Nararendra Cahaya 18': 1230, 'Rama Panji Nararendra Cahaya 19': 1231, 'Rama Panji Nararendra Cahaya 20': 1232, 'Rama Panji Nararendra Cahaya 21': 1233, 'Rama Panji Nararendra Cahaya 22': 1234, 'Rama Panji Nararendra Cahaya 25': 1235, 'Rama Panji Nararendra Cahaya 26': 1236, 'Rama Panji Nararendra Cahaya 27': 1237, 'Rama Panji Nararendra Cahaya 28': 1238, 'Rama Panji Nararendra Cahaya 29': 1239, 'Rama Panji Nararendra Cahaya 30': 1240, 'Rama Panji Nararendra Cahaya 31': 1241, 'Rama Panji Nararendra Cahaya 32': 1242, 'Rama Panji Nararendra Cahaya 35': 1243, 'Rama Panji Nararendra Cahaya 36': 1244, 'Rama Panji Nararendra Cahaya 37': 1245, 'Rama Panji Nararendra Cahaya 38': 1246, 'Rama Panji Nararendra Cahaya 39': 1247, 'Rama Panji Nararendra Cahaya 40': 1248, 'Rambang Widyadana 01': 1249, 'Rambang Widyadana 010': 1250, 'Rambang Widyadana 011': 1251, 'Rambang Widyadana 014': 1252, 'Rambang Widyadana 015 ': 1253, 'Rambang Widyadana 016': 1254, 'Rambang Widyadana 017': 1255, 'Rambang Widyadana 018': 1256, 'Rambang Widyadana 019': 1257, 'Rambang Widyadana 020': 1258, 'Rambang Widyadana 021': 1259, 'Rambang Widyadana 024': 1260, 'Rambang Widyadana 025': 1261, 'Rambang Widyadana 026': 1262, 'Rambang Widyadana 027': 1263, 'Rambang Widyadana 028': 1264, 'Rambang Widyadana 029': 1265, 'Rambang Widyadana 030': 1266, 'Rambang Widyadana 031': 1267, 'Rambang Widyadana 034': 1268, 'Rambang Widyadana 035': 1269, 'Rambang Widyadana 036': 1270, 'Rambang Widyadana 037': 1271, 'Rambang Widyadana 038': 1272, 'Rambang Widyadana 039': 1273, 'Rambang Widyadana 04': 1274, 'Rambang Widyadana 040': 1275, 'Rambang Widyadana 05': 1276, 'Rambang Widyadana 06': 1277, 'Rambang Widyadana 07': 1278, 'Rambang Widyadana 08': 1279, 'Rambang Widyadana 09': 1280, 'Shilsylia Putri Devitasary 01': 1281, 'Shilsylia Putri Devitasary 04': 1282, 'Shilsylia Putri Devitasary 05': 1283, 'Shilsylia Putri Devitasary 06': 1284, 'Shilsylia Putri Devitasary 07': 1285, 'Shilsylia Putri Devitasary 08': 1286, 'Shilsylia Putri Devitasary 09': 1287, 'Shilsylia Putri Devitasary 10': 1288, 'Shilsylia Putri Devitasary 11': 1289, 'Shilsylia Putri Devitasary 14': 1290, 'Shilsylia Putri Devitasary 15': 1291, 'Shilsylia Putri Devitasary 16': 1292, 'Shilsylia Putri Devitasary 17': 1293, 'Shilsylia Putri Devitasary 18': 1294, 'Shilsylia Putri Devitasary 19': 1295, 'Shilsylia Putri Devitasary 20': 1296, 'Shilsylia Putri Devitasary 21': 1297, 'Shilsylia Putri Devitasary 24': 1298, 'Shilsylia Putri Devitasary 25': 1299, 'Shilsylia Putri Devitasary 26': 1300, 'Shilsylia Putri Devitasary 27': 1301, 'Shilsylia Putri Devitasary 28': 1302, 'Shilsylia Putri Devitasary 29': 1303, 'Shilsylia Putri Devitasary 30': 1304, 'Shilsylia Putri Devitasary 31': 1305, 'Shilsylia Putri Devitasary 34': 1306, 'Shilsylia Putri Devitasary 35': 1307, 'Shilsylia Putri Devitasary 36': 1308, 'Shilsylia Putri Devitasary 37': 1309, 'Shilsylia Putri Devitasary 38': 1310, 'Shilsylia Putri Devitasary 39': 1311, 'Shilsylia Putri Devitasary 40': 1312, 'Sophia 03': 1313, 'Sophia 04': 1314, 'Sophia 05': 1315, 'Sophia 06': 1316, 'Sophia 07': 1317, 'Sophia 08': 1318, 'Sophia 09': 1319, 'Sophia 10': 1320, 'Sophia 11': 1321, 'Sophia 12': 1322, 'Sophia 15': 1323, 'Sophia 16': 1324, 'Sophia 17': 1325, 'Sophia 18': 1326, 'Sophia 19': 1327, 'Sophia 20': 1328, 'Sophia 21': 1329, 'Sophia 22': 1330, 'Sophia 23': 1331, 'Sophia 26': 1332, 'Sophia 27': 1333, 'Sophia 28': 1334, 'Sophia 29': 1335, 'Sophia 30': 1336, 'Sophia 31': 1337, 'Sophia 32': 1338, 'Sophia 33': 1339, 'Sophia 34': 1340, 'Sophia 35': 1341, 'Sophia 36': 1342, 'Sophia 37': 1343, 'Sophia 38': 1344, 'Sulis Septiani Putri 01': 1345, 'Sulis Septiani Putri 02': 1346, 'Sulis Septiani Putri 05': 1347, 'Sulis Septiani Putri 06': 1348, 'Sulis Septiani Putri 07': 1349, 'Sulis Septiani Putri 08': 1350, 'Sulis Septiani Putri 09': 1351, 'Sulis Septiani Putri 10': 1352, 'Sulis Septiani Putri 11': 1353, 'Sulis Septiani Putri 12': 1354, 'Sulis Septiani Putri 15': 1355, 'Sulis Septiani Putri 16': 1356, 'Sulis Septiani Putri 17': 1357, 'Sulis Septiani Putri 18': 1358, 'Sulis Septiani Putri 19': 1359, 'Sulis Septiani Putri 20': 1360, 'Sulis Septiani Putri 21': 1361, 'Sulis Septiani Putri 22': 1362, 'Sulis Septiani Putri 25': 1363, 'Sulis Septiani Putri 26': 1364, 'Sulis Septiani Putri 27': 1365, 'Sulis Septiani Putri 28': 1366, 'Sulis Septiani Putri 29': 1367, 'Sulis Septiani Putri 30': 1368, 'Sulis Septiani Putri 31': 1369, 'Sulis Septiani Putri 32': 1370, 'Sulis Septiani Putri 35': 1371, 'Sulis Septiani Putri 36': 1372, 'Sulis Septiani Putri 37': 1373, 'Sulis Septiani Putri 38': 1374, 'Sulis Septiani Putri 39': 1375, 'Sulis Septiani Putri 40': 1376, 'ULFAH NAFIAH 01': 1377, 'ULFAH NAFIAH 02': 1378, 'ULFAH NAFIAH 03': 1379, 'ULFAH NAFIAH 04': 1380, 'ULFAH NAFIAH 07': 1381, 'ULFAH NAFIAH 08': 1382, 'ULFAH NAFIAH 09': 1383, 'ULFAH NAFIAH 10': 1384, 'ULFAH NAFIAH 11': 1385, 'ULFAH NAFIAH 12': 1386, 'ULFAH NAFIAH 13': 1387, 'ULFAH NAFIAH 14': 1388, 'ULFAH NAFIAH 17': 1389, 'ULFAH NAFIAH 18': 1390, 'ULFAH NAFIAH 19': 1391, 'ULFAH NAFIAH 20': 1392, 'ULFAH NAFIAH 21': 1393, 'ULFAH NAFIAH 22': 1394, 'ULFAH NAFIAH 23': 1395, 'ULFAH NAFIAH 24': 1396, 'ULFAH NAFIAH 27': 1397, 'ULFAH NAFIAH 28': 1398, 'ULFAH NAFIAH 29': 1399, 'ULFAH NAFIAH 30': 1400, 'ULFAH NAFIAH 31': 1401, 'ULFAH NAFIAH 32': 1402, 'ULFAH NAFIAH 33': 1403, 'ULFAH NAFIAH 34': 1404, 'ULFAH NAFIAH 37': 1405, 'ULFAH NAFIAH 38': 1406, 'ULFAH NAFIAH 39': 1407, 'ULFAH NAFIAH 40': 1408, 'Unknown Class': 1409, 'Yogi Hanusanjaya 01': 1410, 'Yogi Hanusanjaya 04': 1411, 'Yogi Hanusanjaya 05': 1412, 'Yogi Hanusanjaya 06': 1413, 'Yogi Hanusanjaya 07': 1414, 'Yogi Hanusanjaya 08': 1415, 'Yogi Hanusanjaya 09': 1416, 'Yogi Hanusanjaya 10': 1417, 'Yogi Hanusanjaya 11': 1418, 'Yogi Hanusanjaya 14': 1419, 'Yogi Hanusanjaya 15': 1420, 'Yogi Hanusanjaya 16': 1421, 'Yogi Hanusanjaya 17': 1422, 'Yogi Hanusanjaya 18': 1423, 'Yogi Hanusanjaya 19': 1424, 'Yogi Hanusanjaya 20': 1425, 'Yogi Hanusanjaya 21': 1426, 'Yogi Hanusanjaya 24': 1427, 'Yogi Hanusanjaya 25': 1428, 'Yogi Hanusanjaya 26': 1429, 'Yogi Hanusanjaya 27': 1430, 'Yogi Hanusanjaya 28': 1431, 'Yogi Hanusanjaya 29': 1432, 'Yogi Hanusanjaya 30': 1433, 'Yogi Hanusanjaya 31': 1434, 'Yogi Hanusanjaya 34': 1435, 'Yogi Hanusanjaya 35': 1436, 'Yogi Hanusanjaya 36': 1437, 'Yogi Hanusanjaya 37': 1438, 'Yogi Hanusanjaya 38': 1439, 'Yogi Hanusanjaya 39': 1440, 'Yogi Hanusanjaya 40': 1441, 'al faisal selan 02.jpg': 1442, 'al faisal selan 03.jpg': 1443, 'al faisal selan 05.jpg': 1444, 'al faisal selan 06.jpg': 1445, 'al faisal selan 07.jpg': 1446, 'al faisal selan 08.jpg': 1447, 'al faisal selan 09.jpg': 1448, 'al faisal selan 10.jpg': 1449, 'al faisal selan 12.jpg': 1450, 'al faisal selan 13.jpg': 1451, 'al faisal selan 15.jpg': 1452, 'al faisal selan 16.jpg': 1453, 'al faisal selan 17.jpg': 1454, 'al faisal selan 18.jpg': 1455, 'al faisal selan 19.jpg': 1456, 'al faisal selan 20.jpg': 1457, 'al faisal selan 22.jpg': 1458, 'al faisal selan 23.jpg': 1459, 'al faisal selan 25.jpg': 1460, 'al faisal selan 26.jpg': 1461, 'al faisal selan 27.jpg': 1462, 'al faisal selan 28.jpg': 1463, 'al faisal selan 29.jpg': 1464, 'al faisal selan 30.jpg': 1465, 'al faisal selan 32.jpg': 1466, 'al faisal selan 33.jpg': 1467, 'al faisal selan 35.jpg': 1468, 'al faisal selan 36.jpg': 1469, 'al faisal selan 37.jpg': 1470, 'al faisal selan 38.jpg': 1471, 'al faisal selan 39 .jpg': 1472, 'al faisal selan 40.jpg': 1473, 'julia eliza w 10': 1474, 'julia eliza w 12': 1475, 'julia eliza w 13': 1476, 'julia eliza w 15': 1477, 'julia eliza w 16': 1478, 'julia eliza w 17': 1479, 'julia eliza w 18': 1480, 'julia eliza w 19': 1481, 'julia eliza w 2': 1482, 'julia eliza w 20': 1483, 'julia eliza w 22': 1484, 'julia eliza w 23': 1485, 'julia eliza w 25': 1486, 'julia eliza w 26': 1487, 'julia eliza w 27': 1488, 'julia eliza w 28': 1489, 'julia eliza w 29': 1490, 'julia eliza w 3': 1491, 'julia eliza w 30': 1492, 'julia eliza w 32': 1493, 'julia eliza w 33': 1494, 'julia eliza w 35': 1495, 'julia eliza w 36': 1496, 'julia eliza w 37': 1497, 'julia eliza w 38': 1498, 'julia eliza w 39': 1499, 'julia eliza w 40': 1500, 'julia eliza w 5': 1501, 'julia eliza w 6': 1502, 'julia eliza w 7': 1503, 'julia eliza w 8': 1504, 'julia eliza w 9': 1505, 'siti nabila maulidya 10': 1506, 'siti nabila maulidya 12': 1507, 'siti nabila maulidya 13': 1508, 'siti nabila maulidya 14': 1509, 'siti nabila maulidya 16': 1510, 'siti nabila maulidya 17': 1511, 'siti nabila maulidya 18': 1512, 'siti nabila maulidya 19': 1513, 'siti nabila maulidya 2': 1514, 'siti nabila maulidya 20': 1515, 'siti nabila maulidya 22': 1516, 'siti nabila maulidya 23': 1517, 'siti nabila maulidya 24': 1518, 'siti nabila maulidya 26': 1519, 'siti nabila maulidya 27': 1520, 'siti nabila maulidya 28': 1521, 'siti nabila maulidya 29': 1522, 'siti nabila maulidya 3': 1523, 'siti nabila maulidya 30': 1524, 'siti nabila maulidya 32': 1525, 'siti nabila maulidya 33': 1526, 'siti nabila maulidya 34': 1527, 'siti nabila maulidya 36': 1528, 'siti nabila maulidya 37': 1529, 'siti nabila maulidya 38': 1530, 'siti nabila maulidya 39': 1531, 'siti nabila maulidya 4': 1532, 'siti nabila maulidya 40': 1533, 'siti nabila maulidya 6': 1534, 'siti nabila maulidya 7': 1535, 'siti nabila maulidya 8': 1536, 'siti nabila maulidya 9': 1537, 'ulen 02': 1538, 'ulen 03': 1539, 'ulen 05': 1540, 'ulen 06': 1541, 'ulen 07': 1542, 'ulen 08': 1543, 'ulen 09': 1544, 'ulen 10': 1545, 'ulen 12': 1546, 'ulen 13': 1547, 'ulen 15': 1548, 'ulen 16': 1549, 'ulen 17': 1550, 'ulen 18': 1551, 'ulen 19': 1552, 'ulen 20': 1553, 'ulen 22': 1554, 'ulen 23': 1555, 'ulen 25': 1556, 'ulen 26': 1557, 'ulen 27': 1558, 'ulen 28': 1559, 'ulen 29': 1560, 'ulen 30': 1561, 'ulen 32': 1562, 'ulen 33': 1563, 'ulen 35': 1564, 'ulen 36': 1565, 'ulen 37': 1566, 'ulen 38': 1567, 'ulen 39': 1568, 'ulen 40': 1569, 'yudit manda 01': 1570, 'yudit manda 04': 1571, 'yudit manda 05': 1572, 'yudit manda 06': 1573, 'yudit manda 07': 1574, 'yudit manda 08': 1575, 'yudit manda 09': 1576, 'yudit manda 10': 1577, 'yudit manda 11': 1578, 'yudit manda 14': 1579, 'yudit manda 15': 1580, 'yudit manda 16': 1581, 'yudit manda 17': 1582, 'yudit manda 18': 1583, 'yudit manda 19': 1584, 'yudit manda 20': 1585, 'yudit manda 21': 1586, 'yudit manda 24': 1587, 'yudit manda 25': 1588, 'yudit manda 26': 1589, 'yudit manda 27': 1590, 'yudit manda 28': 1591, 'yudit manda 29': 1592, 'yudit manda 30': 1593, 'yudit manda 31': 1594, 'yudit manda 34': 1595, 'yudit manda 35': 1596, 'yudit manda 36': 1597, 'yudit manda 37': 1598, 'yudit manda 38': 1599, 'yudit manda 39': 1600, 'yudit manda 40': 1601}\n"
          ]
        }
      ]
    }
  ]
}